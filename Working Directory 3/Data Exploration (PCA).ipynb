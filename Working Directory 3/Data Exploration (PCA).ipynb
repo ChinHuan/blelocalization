{
 "cells": [
  {
   "cell_type": "code",
   "execution_count": 1,
   "metadata": {},
   "outputs": [
    {
     "data": {
      "text/html": [
       "<style>.container { width: 98% !important }</style>"
      ],
      "text/plain": [
       "<IPython.core.display.HTML object>"
      ]
     },
     "metadata": {},
     "output_type": "display_data"
    }
   ],
   "source": [
    "from IPython.core.display import display, HTML\n",
    "display(HTML('<style>.container { width: 98% !important }</style>'))"
   ]
  },
  {
   "cell_type": "code",
   "execution_count": 2,
   "metadata": {},
   "outputs": [],
   "source": [
    "from utilities import *"
   ]
  },
  {
   "cell_type": "code",
   "execution_count": 3,
   "metadata": {},
   "outputs": [],
   "source": [
    "import joblib\n",
    "import tensorflow as tf\n",
    "import tensorflow_docs as tfdocs\n",
    "import tensorflow_docs.plots\n",
    "from sklearn.preprocessing import normalize\n",
    "from sklearn.decomposition import PCA\n",
    "from mpl_toolkits.mplot3d import Axes3D\n",
    "import seaborn as sns\n",
    "\n",
    "sns.set()"
   ]
  },
  {
   "cell_type": "code",
   "execution_count": 4,
   "metadata": {},
   "outputs": [],
   "source": [
    "import os\n",
    "os.environ['CUDA_VISIBLE_DEVICES'] = '-1'"
   ]
  },
  {
   "cell_type": "markdown",
   "metadata": {},
   "source": [
    "## Import Data"
   ]
  },
  {
   "cell_type": "code",
   "execution_count": 5,
   "metadata": {},
   "outputs": [],
   "source": [
    "pin = read_pin('../Data/pin.csv')\n",
    "test_pin = read_pin('../Data/testPin.csv')\n",
    "ble = read_ble('../Data/ble.csv')"
   ]
  },
  {
   "cell_type": "code",
   "execution_count": 6,
   "metadata": {},
   "outputs": [
    {
     "name": "stdout",
     "output_type": "stream",
     "text": [
      "All beacons: ['0117C55D14E4']\n",
      "Selecting all\n",
      "All beacons: ['0117C55D14E4']\n",
      "Selecting all\n"
     ]
    }
   ],
   "source": [
    "data_1 = read_data('../Data/rssi5.csv')\n",
    "data_2 = read_data('../Data/rssi_2.csv')"
   ]
  },
  {
   "cell_type": "code",
   "execution_count": 7,
   "metadata": {},
   "outputs": [
    {
     "name": "stdout",
     "output_type": "stream",
     "text": [
      "All beacons: ['0117C55D14E4']\n",
      "Selecting all\n",
      "All beacons: ['0117C55D14E4']\n",
      "Selecting all\n"
     ]
    }
   ],
   "source": [
    "test_1 = read_data('../Data/testRssi.csv')\n",
    "test_2 = read_data('../Data/testRssi_2.csv')"
   ]
  },
  {
   "cell_type": "code",
   "execution_count": 8,
   "metadata": {},
   "outputs": [],
   "source": [
    "data = pd.concat([data_1, data_2], axis=0)\n",
    "test = pd.concat([test_1, test_2], axis=0)"
   ]
  },
  {
   "cell_type": "markdown",
   "metadata": {},
   "source": [
    "## Train Validation Split"
   ]
  },
  {
   "cell_type": "code",
   "execution_count": 9,
   "metadata": {},
   "outputs": [],
   "source": [
    "train, validation = train_validation_split(data)"
   ]
  },
  {
   "cell_type": "code",
   "execution_count": 10,
   "metadata": {},
   "outputs": [
    {
     "name": "stdout",
     "output_type": "stream",
     "text": [
      "(102033, 19)\n",
      "(11337, 19)\n"
     ]
    }
   ],
   "source": [
    "print(train.shape)\n",
    "print(validation.shape)"
   ]
  },
  {
   "cell_type": "code",
   "execution_count": 11,
   "metadata": {},
   "outputs": [],
   "source": [
    "def linear_impute(data):\n",
    "    for s in scanners:\n",
    "        dx = data['X'] - ble[s]['X']\n",
    "        dy = data['Y'] - ble[s]['Y']\n",
    "        d = np.sqrt(np.square(dy) + np.square(dx))\n",
    "        reg = joblib.load('../Models/linear_distance_models_2/{}.joblib'.format(s))\n",
    "        ss = pd.Series(reg.predict(d.values.reshape((-1, 1))))\n",
    "        data[s].fillna(ss, inplace=True)\n",
    "\n",
    "def impute(data):\n",
    "    rolling_win = 30\n",
    "\n",
    "    data = data.sort_values(\"time\")\n",
    "    data_rolled = data.groupby(\"location\").rolling(rolling_win, min_periods=1).median().reset_index()\n",
    "    data_imputed = data_rolled.set_index(\"location\").groupby(\"location\").ffill()\n",
    "    data_imputed.reset_index(inplace=True)\n",
    "    data_imputed[\"X\"] = data_imputed[\"location\"].apply(lambda x: pin[x][\"X\"] if x[0] == 'V' else test_pin[x][\"X\"])\n",
    "    data_imputed[\"Y\"] = data_imputed[\"location\"].apply(lambda x: pin[x][\"Y\"] if x[0] == 'V' else test_pin[x][\"Y\"])\n",
    "    linear_impute(data_imputed)\n",
    "    return data_imputed\n",
    "\n",
    "def impute_ambient(data):\n",
    "    rolling_win = 30\n",
    "\n",
    "    data = data.sort_values(\"time\")\n",
    "    data_rolled = data.rolling(rolling_win, min_periods=1).median().reset_index()\n",
    "    data_imputed = data_rolled.ffill()\n",
    "    data_imputed['location'] = 'ambient'\n",
    "    linear_impute(data_imputed)\n",
    "    return data_imputed"
   ]
  },
  {
   "cell_type": "code",
   "execution_count": 12,
   "metadata": {},
   "outputs": [],
   "source": [
    "train_imputed = impute(train)\n",
    "validation_imputed = impute(validation)\n",
    "test_imputed = impute(test)"
   ]
  },
  {
   "cell_type": "code",
   "execution_count": 13,
   "metadata": {},
   "outputs": [],
   "source": [
    "train_imputed[scanners] = normalize(train_imputed[scanners] + 100)\n",
    "validation_imputed[scanners] = normalize(validation_imputed[scanners] + 100)\n",
    "test_imputed[scanners] = normalize(test_imputed[scanners] + 100)"
   ]
  },
  {
   "cell_type": "code",
   "execution_count": 14,
   "metadata": {},
   "outputs": [],
   "source": [
    "X_train, y_train = train_imputed[scanners].copy(), train_imputed['location'].copy()\n",
    "X_validation, y_validation = validation_imputed[scanners].copy(), validation_imputed['location'].copy()\n",
    "X_test, y_test = test_imputed[scanners].copy(), test_imputed['location'].copy()\n",
    "\n",
    "train = train_imputed[scanners + ['location']].copy()\n",
    "validation = validation_imputed[scanners + ['location']].copy()\n",
    "test = test_imputed[scanners + ['location']].copy()"
   ]
  },
  {
   "cell_type": "code",
   "execution_count": 15,
   "metadata": {},
   "outputs": [
    {
     "data": {
      "text/plain": [
       "array([0.56052368, 0.09860533, 0.08797432, 0.04614246, 0.02734353,\n",
       "       0.02661154, 0.02259243, 0.02101593, 0.01844216, 0.01682019,\n",
       "       0.01543092, 0.01350322, 0.01306483, 0.01227793, 0.00929003,\n",
       "       0.00818713, 0.00217437])"
      ]
     },
     "execution_count": 15,
     "metadata": {},
     "output_type": "execute_result"
    }
   ],
   "source": [
    "pca = PCA(n_components=17)\n",
    "pca_results = pca.fit_transform(train[scanners])\n",
    "pca.explained_variance_ratio_"
   ]
  },
  {
   "cell_type": "code",
   "execution_count": null,
   "metadata": {},
   "outputs": [],
   "source": []
  }
 ],
 "metadata": {
  "kernelspec": {
   "display_name": "Python 3",
   "language": "python",
   "name": "python3"
  },
  "language_info": {
   "codemirror_mode": {
    "name": "ipython",
    "version": 3
   },
   "file_extension": ".py",
   "mimetype": "text/x-python",
   "name": "python",
   "nbconvert_exporter": "python",
   "pygments_lexer": "ipython3",
   "version": "3.7.5"
  }
 },
 "nbformat": 4,
 "nbformat_minor": 2
}
