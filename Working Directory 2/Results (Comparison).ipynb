{
 "cells": [
  {
   "cell_type": "code",
   "execution_count": 1,
   "metadata": {},
   "outputs": [
    {
     "data": {
      "text/html": [
       "<style>.container { width: 98% !important }</style>"
      ],
      "text/plain": [
       "<IPython.core.display.HTML object>"
      ]
     },
     "metadata": {},
     "output_type": "display_data"
    }
   ],
   "source": [
    "from IPython.core.display import display, HTML\n",
    "display(HTML('<style>.container { width: 98% !important }</style>'))"
   ]
  },
  {
   "cell_type": "code",
   "execution_count": 2,
   "metadata": {},
   "outputs": [],
   "source": [
    "from utilities import *"
   ]
  },
  {
   "cell_type": "code",
   "execution_count": 3,
   "metadata": {},
   "outputs": [],
   "source": [
    "import joblib\n",
    "import seaborn as sns\n",
    "import tensorflow as tf\n",
    "from sklearn.preprocessing import normalize\n",
    "from datetime import timedelta\n",
    "\n",
    "sns.set()"
   ]
  },
  {
   "cell_type": "code",
   "execution_count": 4,
   "metadata": {},
   "outputs": [],
   "source": [
    "import os\n",
    "os.environ['CUDA_VISIBLE_DEVICES'] = '-1'"
   ]
  },
  {
   "cell_type": "code",
   "execution_count": 5,
   "metadata": {},
   "outputs": [],
   "source": [
    "test_pin = read_pin('../Data/testPin.csv')\n",
    "ble = read_ble('../Data/ble.csv')"
   ]
  },
  {
   "cell_type": "code",
   "execution_count": 6,
   "metadata": {},
   "outputs": [
    {
     "name": "stdout",
     "output_type": "stream",
     "text": [
      "All beacons: ['0117C55D14E4']\n",
      "Selecting all\n",
      "All beacons: ['0117C55D14E4']\n",
      "Selecting all\n"
     ]
    }
   ],
   "source": [
    "test_1 = read_data('../Data/testRssi.csv')\n",
    "test_2 = read_data('../Data/testRssi_2.csv')"
   ]
  },
  {
   "cell_type": "code",
   "execution_count": 7,
   "metadata": {},
   "outputs": [],
   "source": [
    "test = pd.concat([test_1, test_2], axis=0, sort=True)"
   ]
  },
  {
   "cell_type": "code",
   "execution_count": 8,
   "metadata": {},
   "outputs": [
    {
     "data": {
      "text/plain": [
       "(27229, 19)"
      ]
     },
     "execution_count": 8,
     "metadata": {},
     "output_type": "execute_result"
    }
   ],
   "source": [
    "test.shape"
   ]
  },
  {
   "cell_type": "code",
   "execution_count": 9,
   "metadata": {},
   "outputs": [],
   "source": [
    "def linear_impute(data):\n",
    "    for s in scanners:\n",
    "        dx = data['X'] - ble[s]['X']\n",
    "        dy = data['Y'] - ble[s]['Y']\n",
    "        d = np.sqrt(np.square(dy) + np.square(dx))\n",
    "        reg = joblib.load('../Models/linear_distance_models_2/{}.joblib'.format(s))\n",
    "        ss = pd.Series(reg.predict(d.values.reshape((-1, 1))))\n",
    "        data[s].fillna(ss, inplace=True)\n",
    "\n",
    "def impute(data):\n",
    "    rolling_win = 30\n",
    "\n",
    "    data = data.sort_values(\"time\")\n",
    "    data_rolled = data.groupby(\"location\").rolling(rolling_win, min_periods=1).mean().reset_index()\n",
    "    data_imputed = data_rolled.set_index(\"location\").groupby(\"location\").ffill()\n",
    "    data_imputed.reset_index(inplace=True)\n",
    "    data_imputed[\"X\"] = data_imputed[\"location\"].apply(lambda x: pin[x][\"X\"] if x[0] == 'V' else test_pin[x][\"X\"])\n",
    "    data_imputed[\"Y\"] = data_imputed[\"location\"].apply(lambda x: pin[x][\"Y\"] if x[0] == 'V' else test_pin[x][\"Y\"])\n",
    "    linear_impute(data_imputed)\n",
    "    return data_imputed"
   ]
  },
  {
   "cell_type": "code",
   "execution_count": 10,
   "metadata": {},
   "outputs": [],
   "source": [
    "test_imputed = impute(test)\n",
    "test_imputed[scanners] = normalize(test_imputed[scanners] + 100)\n",
    "X_test, y_test = test_imputed[scanners].values, test_imputed[[\"X\", \"Y\"]].values"
   ]
  },
  {
   "cell_type": "code",
   "execution_count": 11,
   "metadata": {},
   "outputs": [],
   "source": [
    "names = {\n",
    "    'MLP_CombineData_Small': 'MLP-Small',\n",
    "    'MLP_CombineData': 'MLP',\n",
    "    'MLP_FeaturesGeneration': 'MLP (Features Generation)',\n",
    "    'MLP_Timesteps_W10': 'MLP (Timesteps)',\n",
    "    'Conv1D_Timesteps_W10': 'Conv1D-MLP',\n",
    "    'LSTM_Stationary_W10': 'LSTM',\n",
    "    'LSTM_Conv1D_Stationary_W10': 'Conv1D-LSTM'\n",
    "}\n",
    "\n",
    "def cdf(preds, y_test, name, timesteps=False):\n",
    "\n",
    "    axis = 2 if timesteps else 1\n",
    "    Z = np.sqrt(np.sum(np.square(preds - y_test), axis=axis)).reshape(-1)\n",
    "    N = Z.size\n",
    "\n",
    "    X = np.sort(Z)\n",
    "    F = np.array(range(N)) / float(N)\n",
    "    plt.plot(X, F, label=names[name])\n",
    "    plt.title('CDF of Euclidean Distance Error')\n",
    "    plt.xlabel('Euclidean Distance Error (m)')\n",
    "    plt.ylabel('Density')\n",
    "    \n",
    "def average_distance_error(preds, y_test, axis=1):\n",
    "    return np.mean(np.sqrt(np.sum(np.square(preds - y_test), axis=axis)))"
   ]
  },
  {
   "cell_type": "code",
   "execution_count": 12,
   "metadata": {},
   "outputs": [
    {
     "name": "stdout",
     "output_type": "stream",
     "text": [
      "27229/1 - 0s - loss: 2.6592 - mae: 1.3600 - mse: 2.8518\n",
      "MLP_CombineData_Small\n",
      "Test loss: 2.8517984326698596\n",
      "Mean absolute error: 1.3599749\n",
      "Mean squared error: 2.851799\n",
      "Average distance error: 2.1409387017062067\n",
      "\n",
      "27229/1 - 1s - loss: 1.5126 - mae: 1.0461 - mse: 1.8543\n",
      "MLP_CombineData\n",
      "Test loss: 1.9661739497841633\n",
      "Mean absolute error: 1.0460675\n",
      "Mean squared error: 1.854341\n",
      "Average distance error: 1.688214597687694\n",
      "\n",
      "27229/1 - 1s - loss: 1.7201 - mae: 1.0525 - mse: 1.9273\n",
      "MLP_FeaturesGeneration\n",
      "Test loss: 1.9766553646407277\n",
      "Mean absolute error: 1.0525177\n",
      "Mean squared error: 1.9273138\n",
      "Average distance error: 1.7332459223229009\n",
      "\n"
     ]
    },
    {
     "data": {
      "image/png": "[encoded data removed]",
      "text/plain": [
       "<Figure size 720x720 with 1 Axes>"
      ]
     },
     "metadata": {},
     "output_type": "display_data"
    }
   ],
   "source": [
    "static_models = [\n",
    "    'MLP_CombineData_Small',\n",
    "    'MLP_CombineData',\n",
    "    'MLP_FeaturesGeneration'\n",
    "]\n",
    "\n",
    "plt.figure(figsize=(10, 10))\n",
    "for m in static_models:\n",
    "    model = tf.keras.models.load_model('../Models/{}.h5'.format(m))\n",
    "    test_scores = model.evaluate(X_test, y_test, verbose=2)\n",
    "    print(m)\n",
    "    print(\"Test loss:\", test_scores[0])\n",
    "    print(\"Mean absolute error:\", test_scores[1])\n",
    "    print(\"Mean squared error:\", test_scores[2])\n",
    "    \n",
    "    preds = model.predict(X_test)\n",
    "    print(\"Average distance error:\", average_distance_error(preds, y_test))\n",
    "    print()\n",
    "    cdf(model.predict(X_test), y_test, m)\n",
    "    \n",
    "plt.legend()\n",
    "plt.show()"
   ]
  },
  {
   "cell_type": "code",
   "execution_count": 13,
   "metadata": {},
   "outputs": [],
   "source": [
    "def read_sequence_rssi(filename):\n",
    "    rssi = pd.read_csv(filename)\n",
    "    rssi = rssi.pivot_table(columns=\"scanner\", values=\"rssi\", index=\"time\")\n",
    "    rssi.rename_axis(None, axis=1, inplace=True)\n",
    "    rssi.index = pd.to_datetime(rssi.index)\n",
    "    rssi = rssi.groupby(pd.Grouper(freq='100ms')).mean()\n",
    "    return rssi\n",
    "\n",
    "def read_sequence_loc(filename):\n",
    "    loc = pd.read_csv(filename)\n",
    "    loc['time'] = pd.to_datetime(loc['time'])\n",
    "    loc.set_index('time', inplace=True)\n",
    "    loc = loc.groupby(pd.Grouper(freq='100ms')).mean()\n",
    "    return loc\n",
    "\n",
    "def transform(loc, inplace=False):\n",
    "    if inplace:\n",
    "        loc['X'] = 24.187023 + loc['X']\n",
    "        loc['Y'] = 12.252072 - loc['Y']\n",
    "    else:\n",
    "        transformed = pd.DataFrame()\n",
    "        transformed['X'] = 24.187023 + loc['X']\n",
    "        transformed['Y'] = 12.252072 - loc['Y']\n",
    "        return transformed\n",
    "\n",
    "test_rssi = read_sequence_rssi('../Data/testSequenceRssi.csv')\n",
    "test_loc = read_sequence_loc('../Data/testSequenceLoc.csv')\n",
    "\n",
    "transform(test_loc, inplace=True)\n",
    "test_loc = test_loc.interpolate(method='linear')\n",
    "test_loc = test_loc[test_loc['X'] >= 11.5]\n",
    "test = test_rssi.join(test_loc, how='inner')"
   ]
  },
  {
   "cell_type": "code",
   "execution_count": 14,
   "metadata": {},
   "outputs": [
    {
     "name": "stdout",
     "output_type": "stream",
     "text": [
      "All beacons: ['0117C55D14E4']\n",
      "Selecting all\n",
      "All beacons: ['0117C55D14E4']\n",
      "Selecting all\n"
     ]
    }
   ],
   "source": [
    "def read_stationary_data(filename):\n",
    "    data = read_data(filename)\n",
    "    data = data.set_index('time').groupby([pd.Grouper('location'), pd.Grouper(freq='100ms')]).mean()\n",
    "    data = data.reset_index(0)\n",
    "    data[\"X\"] = data[\"location\"].apply(lambda x: pin[x][\"X\"] if x[0] == 'V' else test_pin[x][\"X\"])\n",
    "    data[\"Y\"] = data[\"location\"].apply(lambda x: pin[x][\"Y\"] if x[0] == 'V' else test_pin[x][\"Y\"])\n",
    "    return data[scanners + ['X', 'Y']]\n",
    "\n",
    "stationary_test_1 = read_stationary_data('../Data/testRssi.csv')\n",
    "stationary_test_2 = read_stationary_data('../Data/testRssi_2.csv')\n",
    "\n",
    "test = pd.concat([stationary_test_1, stationary_test_2, test], axis=0, sort=True)\n",
    "test.sort_index(inplace=True)"
   ]
  },
  {
   "cell_type": "code",
   "execution_count": 15,
   "metadata": {},
   "outputs": [],
   "source": [
    "def impute2(data):\n",
    "    data.update(data.rolling('5s').mean())\n",
    "    data.ffill(inplace=True)\n",
    "\n",
    "def linear_impute2(data):\n",
    "    for s in scanners:\n",
    "        dx = data['X'] - ble[s]['X']\n",
    "        dy = data['Y'] - ble[s]['Y']\n",
    "        d = np.sqrt(np.square(dy) + np.square(dx))\n",
    "        reg = joblib.load('../Models/linear_distance_models_2/{}.joblib'.format(s))\n",
    "        ss = pd.Series(reg.predict(d.values.reshape((-1, 1))))\n",
    "        ss.index = data.index\n",
    "        data[s].fillna(ss, inplace=True)\n",
    "        \n",
    "def create_window(dataset, win_size, start_index=0, end_index=None, LSTM=False):\n",
    "    data = []\n",
    "    labels = []\n",
    "\n",
    "    start_index = start_index + win_size\n",
    "    if end_index is None:\n",
    "        end_index = len(dataset)\n",
    "\n",
    "    for i in range(start_index, end_index, win_size):\n",
    "        indices = range(i-win_size, i)\n",
    "        slices = dataset.iloc[indices]\n",
    "        if slices.index.max() - slices.index.min() < timedelta(milliseconds=win_size * 200):\n",
    "            data.append(slices[scanners].values)\n",
    "            if LSTM:\n",
    "                labels.append(slices[['X', 'Y']].values)\n",
    "            else:\n",
    "                labels.append(dataset[['X', 'Y']].iloc[i].values)\n",
    "    return np.array(data), np.array(labels)\n",
    "\n",
    "test.sort_index(inplace=True)\n",
    "impute2(test)\n",
    "linear_impute2(test)\n",
    "test[scanners] = normalize(test[scanners] + 100)\n",
    "\n",
    "win_size = 10\n",
    "X_test_1, y_test_1 = create_window(test, win_size)\n",
    "X_test_2, y_test_2 = create_window(test, win_size, LSTM=True)\n",
    "X_test, y_test = test[scanners].values, test[[\"X\", \"Y\"]].values"
   ]
  },
  {
   "cell_type": "code",
   "execution_count": 16,
   "metadata": {
    "scrolled": false
   },
   "outputs": [
    {
     "name": "stdout",
     "output_type": "stream",
     "text": [
      "13471/1 - 0s - loss: 1.8939 - mae: 1.2432 - mse: 2.7343\n",
      "MLP_CombineData_Small\n",
      "Test loss: 2.734294949816079\n",
      "Mean absolute error: 1.2431544\n",
      "Mean squared error: 2.7342944\n",
      "Average distance error: 1.9843844053056297\n",
      "\n",
      "13471/1 - 0s - loss: 2.4629 - mae: 1.1069 - mse: 3.0141\n",
      "MLP_CombineData\n",
      "Test loss: 3.1258901696491503\n",
      "Mean absolute error: 1.1068654\n",
      "Mean squared error: 3.014057\n",
      "Average distance error: 1.8234667285820432\n",
      "\n",
      "13471/1 - 0s - loss: 1.9489 - mae: 1.0518 - mse: 2.2534\n",
      "MLP_FeaturesGeneration\n",
      "Test loss: 2.3027508791460596\n",
      "Mean absolute error: 1.0518429\n",
      "Mean squared error: 2.2534082\n",
      "Average distance error: 1.7297685340371811\n",
      "\n",
      "1303/1 - 0s - loss: 1.4924 - mae: 1.0449 - mse: 2.0858\n",
      "MLP_Timesteps_W10\n",
      "Test loss: 2.2234868326739723\n",
      "Mean absolute error: 1.0449182\n",
      "Mean squared error: 2.0857983\n",
      "Average distance error: 1.698422392324217\n",
      "\n",
      "1303/1 - 0s - loss: 1.6471 - mae: 1.0357 - mse: 2.0657\n",
      "Conv1D_Timesteps_W10\n",
      "Test loss: 2.2699245065336306\n",
      "Mean absolute error: 1.0356992\n",
      "Mean squared error: 2.065669\n",
      "Average distance error: 1.6980769548599417\n",
      "\n",
      "1303/1 - 0s - loss: 1.8205 - mae: 1.0927 - mse: 2.3142\n",
      "LSTM_Stationary_W10\n",
      "Test loss: 2.5037780844607176\n",
      "Mean absolute error: 1.0926746\n",
      "Mean squared error: 2.314203\n",
      "Average distance error: 1.7809947851681107\n",
      "\n",
      "1303/1 - 0s - loss: 1.8756 - mae: 1.2161 - mse: 2.7640\n",
      "LSTM_Conv1D_Stationary_W10\n",
      "Test loss: 2.93034875273979\n",
      "Mean absolute error: 1.2160677\n",
      "Mean squared error: 2.763962\n",
      "Average distance error: 1.9306164582613898\n",
      "\n"
     ]
    },
    {
     "data": {
      "image/png": "[encoded data removed]",
      "text/plain": [
       "<Figure size 720x720 with 1 Axes>"
      ]
     },
     "metadata": {},
     "output_type": "display_data"
    }
   ],
   "source": [
    "trajectory_models = [\n",
    "    'MLP_Timesteps_W10',\n",
    "    'Conv1D_Timesteps_W10',\n",
    "    'LSTM_Stationary_W10',\n",
    "    'LSTM_Conv1D_Stationary_W10'\n",
    "]\n",
    "\n",
    "plt.figure(figsize=(10, 10))\n",
    "for m in static_models:\n",
    "    model = tf.keras.models.load_model('../Models/{}.h5'.format(m))\n",
    "    test_scores = model.evaluate(X_test, y_test, verbose=2)\n",
    "    print(m)\n",
    "    print(\"Test loss:\", test_scores[0])\n",
    "    print(\"Mean absolute error:\", test_scores[1])\n",
    "    print(\"Mean squared error:\", test_scores[2])\n",
    "    \n",
    "    preds = model.predict(X_test)\n",
    "    print(\"Average distance error:\", average_distance_error(preds, y_test))\n",
    "    print()\n",
    "    cdf(model.predict(X_test), y_test, m)\n",
    "    \n",
    "for m in trajectory_models:\n",
    "    model = tf.keras.models.load_model('../Models/{}.h5'.format(m))\n",
    "    if m == 'LSTM_Stationary_W10':\n",
    "        X_t = X_test_2\n",
    "        y_t = y_test_2\n",
    "        axis = 2\n",
    "    else:\n",
    "        X_t = X_test_1\n",
    "        y_t = y_test_1\n",
    "        axis = 1\n",
    "    test_scores = model.evaluate(X_t, y_t, verbose=2)\n",
    "    print(m)\n",
    "    print(\"Test loss:\", test_scores[0])\n",
    "    print(\"Mean absolute error:\", test_scores[1])\n",
    "    print(\"Mean squared error:\", test_scores[2])\n",
    "    \n",
    "    preds = model.predict(X_t)\n",
    "    print(\"Average distance error:\", average_distance_error(preds, y_t, axis))\n",
    "    print()\n",
    "    if m != 'LSTM_Stationary_W10':\n",
    "        cdf(model.predict(X_t), y_t, m)\n",
    "    \n",
    "plt.legend()\n",
    "plt.show()"
   ]
  },
  {
   "cell_type": "code",
   "execution_count": 20,
   "metadata": {
    "scrolled": false
   },
   "outputs": [
    {
     "name": "stdout",
     "output_type": "stream",
     "text": [
      "Processing 100\n",
      "All beacons: ['0117C55D14E4']\n",
      "Selecting all\n",
      "All beacons: ['0117C55D14E4']\n",
      "Selecting all\n",
      "496/1 - 0s - loss: 2.1228 - mae: 1.1346 - mse: 3.2999\n",
      "LSTM_Conv1D_Stationary_W10\n",
      "Test loss: 3.4894779593713823\n",
      "Mean absolute error: 1.1346431\n",
      "Mean squared error: 3.2999032\n",
      "Average distance error: 1.8367314785538071\n",
      "\n",
      "Processing 150\n",
      "All beacons: ['0117C55D14E4']\n",
      "Selecting all\n",
      "All beacons: ['0117C55D14E4']\n",
      "Selecting all\n",
      "655/1 - 0s - loss: 2.1698 - mae: 1.1509 - mse: 3.3903\n",
      "LSTM_Conv1D_Stationary_W10\n",
      "Test loss: 3.57985082928461\n",
      "Mean absolute error: 1.1509207\n",
      "Mean squared error: 3.3902757\n",
      "Average distance error: 1.8834099809312945\n",
      "\n",
      "Processing 200\n",
      "All beacons: ['0117C55D14E4']\n",
      "Selecting all\n",
      "All beacons: ['0117C55D14E4']\n",
      "Selecting all\n",
      "814/1 - 0s - loss: 1.9306 - mae: 1.1036 - mse: 2.9001\n",
      "LSTM_Conv1D_Stationary_W10\n",
      "Test loss: 3.089701728240864\n",
      "Mean absolute error: 1.1035588\n",
      "Mean squared error: 2.900127\n",
      "Average distance error: 1.8135891988943522\n",
      "\n",
      "Processing 250\n",
      "All beacons: ['0117C55D14E4']\n",
      "Selecting all\n",
      "All beacons: ['0117C55D14E4']\n",
      "Selecting all\n",
      "924/1 - 0s - loss: 1.8764 - mae: 1.0917 - mse: 2.4144\n",
      "LSTM_Conv1D_Stationary_W10\n",
      "Test loss: 2.604018865209637\n",
      "Mean absolute error: 1.0917249\n",
      "Mean squared error: 2.414444\n",
      "Average distance error: 1.7853225207582617\n",
      "\n",
      "Processing 300\n",
      "All beacons: ['0117C55D14E4']\n",
      "Selecting all\n",
      "All beacons: ['0117C55D14E4']\n",
      "Selecting all\n",
      "1009/1 - 0s - loss: 1.7546 - mae: 1.1001 - mse: 2.5812\n",
      "LSTM_Conv1D_Stationary_W10\n",
      "Test loss: 2.7707940140966145\n",
      "Mean absolute error: 1.1001457\n",
      "Mean squared error: 2.581219\n",
      "Average distance error: 1.801204930552661\n",
      "\n",
      "Processing 350\n",
      "All beacons: ['0117C55D14E4']\n",
      "Selecting all\n",
      "All beacons: ['0117C55D14E4']\n",
      "Selecting all\n",
      "1087/1 - 0s - loss: 1.8406 - mae: 1.0945 - mse: 2.3846\n",
      "LSTM_Conv1D_Stationary_W10\n",
      "Test loss: 2.5741796687642915\n",
      "Mean absolute error: 1.0944834\n",
      "Mean squared error: 2.3846047\n",
      "Average distance error: 1.7871432460864884\n",
      "\n",
      "Processing 400\n",
      "All beacons: ['0117C55D14E4']\n",
      "Selecting all\n",
      "All beacons: ['0117C55D14E4']\n",
      "Selecting all\n",
      "1167/1 - 0s - loss: 1.6494 - mae: 1.0865 - mse: 2.3329\n",
      "LSTM_Conv1D_Stationary_W10\n",
      "Test loss: 2.5224558056779878\n",
      "Mean absolute error: 1.0865227\n",
      "Mean squared error: 2.332881\n",
      "Average distance error: 1.7739547264112898\n",
      "\n",
      "Processing 450\n",
      "All beacons: ['0117C55D14E4']\n",
      "Selecting all\n",
      "All beacons: ['0117C55D14E4']\n",
      "Selecting all\n",
      "1245/1 - 1s - loss: 1.7646 - mae: 1.0757 - mse: 2.1534\n",
      "LSTM_Conv1D_Stationary_W10\n",
      "Test loss: 2.343009783560971\n",
      "Mean absolute error: 1.0756736\n",
      "Mean squared error: 2.1534345\n",
      "Average distance error: 1.7528749368284278\n",
      "\n",
      "Processing 500\n",
      "All beacons: ['0117C55D14E4']\n",
      "Selecting all\n",
      "All beacons: ['0117C55D14E4']\n",
      "Selecting all\n",
      "1289/1 - 0s - loss: 1.5319 - mae: 1.0812 - mse: 2.1661\n",
      "LSTM_Conv1D_Stationary_W10\n",
      "Test loss: 2.355662508978226\n",
      "Mean absolute error: 1.0812061\n",
      "Mean squared error: 2.1660874\n",
      "Average distance error: 1.7631544678306639\n",
      "\n",
      "Processing 550\n",
      "All beacons: ['0117C55D14E4']\n",
      "Selecting all\n",
      "All beacons: ['0117C55D14E4']\n",
      "Selecting all\n",
      "1303/1 - 0s - loss: 1.8205 - mae: 1.0927 - mse: 2.3142\n",
      "LSTM_Conv1D_Stationary_W10\n",
      "Test loss: 2.503778075677838\n",
      "Mean absolute error: 1.0926746\n",
      "Mean squared error: 2.314203\n",
      "Average distance error: 1.7809947851681107\n",
      "\n"
     ]
    }
   ],
   "source": [
    "def read_stationary_data(filename, number):\n",
    "    data = read_data(filename)\n",
    "    data = data.set_index('time').groupby([pd.Grouper('location'), pd.Grouper(freq='100ms')]).mean()\n",
    "    data = data.groupby('location').tail(number)\n",
    "    data = data.reset_index(0)\n",
    "    data[\"X\"] = data[\"location\"].apply(lambda x: pin[x][\"X\"] if x[0] == 'V' else test_pin[x][\"X\"])\n",
    "    data[\"Y\"] = data[\"location\"].apply(lambda x: pin[x][\"Y\"] if x[0] == 'V' else test_pin[x][\"Y\"])\n",
    "    return data[scanners + ['X', 'Y']]\n",
    "\n",
    "loss = []\n",
    "mae = []\n",
    "mse = []\n",
    "ade = []\n",
    "for i in range(100, 600, 50):\n",
    "    print(\"Processing\", i)\n",
    "    test_rssi = read_sequence_rssi('../Data/testSequenceRssi.csv')\n",
    "    test_loc = read_sequence_loc('../Data/testSequenceLoc.csv')\n",
    "\n",
    "    transform(test_loc, inplace=True)\n",
    "    test_loc = test_loc.interpolate(method='linear')\n",
    "    test_loc = test_loc[test_loc['X'] >= 11.5]\n",
    "    test = test_rssi.join(test_loc, how='inner')\n",
    "\n",
    "    stationary_test_1 = read_stationary_data('../Data/testRssi.csv', i)\n",
    "    stationary_test_2 = read_stationary_data('../Data/testRssi_2.csv', i)\n",
    "\n",
    "    test = pd.concat([stationary_test_1, stationary_test_2, test], axis=0, sort=True)\n",
    "    test.sort_index(inplace=True)\n",
    "\n",
    "    test.sort_index(inplace=True)\n",
    "    impute2(test)\n",
    "    linear_impute2(test)\n",
    "    test[scanners] = normalize(test[scanners] + 100)\n",
    "\n",
    "    win_size = 10\n",
    "    X_test_2, y_test_2 = create_window(test, win_size, LSTM=True)\n",
    "\n",
    "    model = tf.keras.models.load_model('../Models/LSTM_Stationary_W10.h5'.format(m))\n",
    "    \n",
    "    X_t = X_test_2\n",
    "    y_t = y_test_2\n",
    "    axis = 2\n",
    "    \n",
    "    test_scores = model.evaluate(X_t, y_t, verbose=2)\n",
    "    print(m)\n",
    "    print(\"Test loss:\", test_scores[0])\n",
    "    print(\"Mean absolute error:\", test_scores[1])\n",
    "    print(\"Mean squared error:\", test_scores[2])\n",
    "\n",
    "    preds = model.predict(X_t)\n",
    "    print(\"Average distance error:\", average_distance_error(preds, y_t, axis))\n",
    "    print()\n",
    "    \n",
    "    loss.append(test_scores[0])    \n",
    "    mae.append(test_scores[1])    \n",
    "    mse.append(test_scores[2])    \n",
    "    ade.append(average_distance_error(preds, y_t, axis))"
   ]
  },
  {
   "cell_type": "code",
   "execution_count": 22,
   "metadata": {},
   "outputs": [
    {
     "data": {
      "text/plain": [
       "[1.8367314785538071,\n",
       " 1.8834099809312945,\n",
       " 1.8135891988943522,\n",
       " 1.7853225207582617,\n",
       " 1.801204930552661,\n",
       " 1.7871432460864884,\n",
       " 1.7739547264112898,\n",
       " 1.7528749368284278,\n",
       " 1.7631544678306639,\n",
       " 1.7809947851681107]"
      ]
     },
     "execution_count": 22,
     "metadata": {},
     "output_type": "execute_result"
    }
   ],
   "source": [
    "ade"
   ]
  },
  {
   "cell_type": "code",
   "execution_count": null,
   "metadata": {},
   "outputs": [],
   "source": []
  }
 ],
 "metadata": {
  "kernelspec": {
   "display_name": "Python 3",
   "language": "python",
   "name": "python3"
  },
  "language_info": {
   "codemirror_mode": {
    "name": "ipython",
    "version": 3
   },
   "file_extension": ".py",
   "mimetype": "text/x-python",
   "name": "python",
   "nbconvert_exporter": "python",
   "pygments_lexer": "ipython3",
   "version": "3.7.5"
  }
 },
 "nbformat": 4,
 "nbformat_minor": 2
}
