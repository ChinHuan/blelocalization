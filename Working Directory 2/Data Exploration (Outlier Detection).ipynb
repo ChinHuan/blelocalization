{
 "cells": [
  {
   "cell_type": "code",
   "execution_count": 1,
   "metadata": {},
   "outputs": [
    {
     "data": {
      "text/html": [
       "<style>.container { width: 98% !important }</style>"
      ],
      "text/plain": [
       "<IPython.core.display.HTML object>"
      ]
     },
     "metadata": {},
     "output_type": "display_data"
    }
   ],
   "source": [
    "from IPython.core.display import display, HTML\n",
    "display(HTML('<style>.container { width: 98% !important }</style>'))"
   ]
  },
  {
   "cell_type": "code",
   "execution_count": 2,
   "metadata": {},
   "outputs": [],
   "source": [
    "from utilities import *"
   ]
  },
  {
   "cell_type": "code",
   "execution_count": 3,
   "metadata": {},
   "outputs": [],
   "source": [
    "import joblib\n",
    "from numba import jit \n",
    "from sklearn.preprocessing import normalize\n",
    "import seaborn as sns\n",
    "\n",
    "sns.set()"
   ]
  },
  {
   "cell_type": "code",
   "execution_count": 4,
   "metadata": {},
   "outputs": [],
   "source": [
    "import os\n",
    "os.environ['CUDA_VISIBLE_DEVICES'] = '-1'"
   ]
  },
  {
   "cell_type": "code",
   "execution_count": 5,
   "metadata": {},
   "outputs": [],
   "source": [
    "# function for creating a feature importance dataframe\n",
    "def imp_df(column_names, importances):\n",
    "    df = pd.DataFrame({'feature': column_names,\n",
    "                       'feature_importance': importances}) \\\n",
    "           .sort_values('feature_importance', ascending = False) \\\n",
    "           .reset_index(drop = True)\n",
    "    return df\n",
    "\n",
    "# plotting a feature importance dataframe (horizontal barchart)\n",
    "def var_imp_plot(imp_df, title):\n",
    "    imp_df.columns = ['feature', 'feature_importance']\n",
    "    sns.barplot(x = 'feature_importance', y = 'feature', data = imp_df, orient = 'h', color = 'royalblue') \\\n",
    "       .set_title(title, fontsize = 20)"
   ]
  },
  {
   "cell_type": "markdown",
   "metadata": {},
   "source": [
    "## Import Data"
   ]
  },
  {
   "cell_type": "code",
   "execution_count": 6,
   "metadata": {},
   "outputs": [],
   "source": [
    "pin = read_pin('../Data/pin.csv')\n",
    "test_pin = read_pin('../Data/testPin.csv')\n",
    "ble = read_ble('../Data/ble.csv')"
   ]
  },
  {
   "cell_type": "code",
   "execution_count": 7,
   "metadata": {},
   "outputs": [
    {
     "name": "stdout",
     "output_type": "stream",
     "text": [
      "All beacons: ['0117C55D14E4']\n",
      "Selecting all\n",
      "All beacons: ['0117C55D14E4']\n",
      "Selecting all\n"
     ]
    }
   ],
   "source": [
    "data_1 = read_data('../Data/rssi5.csv')\n",
    "data_2 = read_data('../Data/rssi_2.csv')"
   ]
  },
  {
   "cell_type": "code",
   "execution_count": 8,
   "metadata": {},
   "outputs": [
    {
     "name": "stdout",
     "output_type": "stream",
     "text": [
      "All beacons: ['0117C55D14E4']\n",
      "Selecting all\n",
      "All beacons: ['0117C55D14E4']\n",
      "Selecting all\n"
     ]
    }
   ],
   "source": [
    "test_1 = read_data('../Data/testRssi.csv')\n",
    "test_2 = read_data('../Data/testRssi_2.csv')"
   ]
  },
  {
   "cell_type": "code",
   "execution_count": 9,
   "metadata": {},
   "outputs": [],
   "source": [
    "data = pd.concat([data_1, data_2], axis=0)\n",
    "test = pd.concat([test_1, test_2], axis=0)"
   ]
  },
  {
   "cell_type": "code",
   "execution_count": 10,
   "metadata": {},
   "outputs": [
    {
     "data": {
      "text/plain": [
       "(27229, 19)"
      ]
     },
     "execution_count": 10,
     "metadata": {},
     "output_type": "execute_result"
    }
   ],
   "source": [
    "test.shape"
   ]
  },
  {
   "cell_type": "markdown",
   "metadata": {},
   "source": [
    "## Train Validation Split"
   ]
  },
  {
   "cell_type": "code",
   "execution_count": 11,
   "metadata": {},
   "outputs": [],
   "source": [
    "train, validation = train_validation_split(data)"
   ]
  },
  {
   "cell_type": "code",
   "execution_count": 12,
   "metadata": {},
   "outputs": [
    {
     "name": "stdout",
     "output_type": "stream",
     "text": [
      "(102033, 19)\n",
      "(11337, 19)\n"
     ]
    }
   ],
   "source": [
    "print(train.shape)\n",
    "print(validation.shape)"
   ]
  },
  {
   "cell_type": "code",
   "execution_count": 13,
   "metadata": {},
   "outputs": [],
   "source": [
    "def linear_impute(data):\n",
    "    for s in scanners:\n",
    "        dx = data['X'] - ble[s]['X']\n",
    "        dy = data['Y'] - ble[s]['Y']\n",
    "        d = np.sqrt(np.square(dy) + np.square(dx))\n",
    "        reg = joblib.load('../Models/linear_distance_models_2/{}.joblib'.format(s))\n",
    "        ss = pd.Series(reg.predict(d.values.reshape((-1, 1))))\n",
    "        data[s].fillna(ss, inplace=True)\n",
    "\n",
    "def impute(data):\n",
    "    rolling_win = 30\n",
    "\n",
    "    data = data.sort_values(\"time\")\n",
    "    data_rolled = data.groupby(\"location\").rolling(rolling_win, min_periods=1).mean().reset_index()\n",
    "    data_imputed = data_rolled.set_index(\"location\").groupby(\"location\").ffill()\n",
    "    data_imputed.reset_index(inplace=True)\n",
    "    data_imputed[\"X\"] = data_imputed[\"location\"].apply(lambda x: pin[x][\"X\"] if x[0] == 'V' else test_pin[x][\"X\"])\n",
    "    data_imputed[\"Y\"] = data_imputed[\"location\"].apply(lambda x: pin[x][\"Y\"] if x[0] == 'V' else test_pin[x][\"Y\"])\n",
    "    linear_impute(data_imputed)\n",
    "    return data_imputed"
   ]
  },
  {
   "cell_type": "code",
   "execution_count": 14,
   "metadata": {},
   "outputs": [],
   "source": [
    "train_imputed = impute(train)\n",
    "validation_imputed = impute(validation)\n",
    "test_imputed = impute(test)"
   ]
  },
  {
   "cell_type": "code",
   "execution_count": 15,
   "metadata": {},
   "outputs": [],
   "source": [
    "train_imputed[scanners] = normalize(train_imputed[scanners] + 100)\n",
    "validation_imputed[scanners] = normalize(validation_imputed[scanners] + 100)\n",
    "test_imputed[scanners] = normalize(test_imputed[scanners] + 100)"
   ]
  },
  {
   "cell_type": "code",
   "execution_count": 16,
   "metadata": {},
   "outputs": [
    {
     "data": {
      "text/html": [
       "<div>\n",
       "<style scoped>\n",
       "    .dataframe tbody tr th:only-of-type {\n",
       "        vertical-align: middle;\n",
       "    }\n",
       "\n",
       "    .dataframe tbody tr th {\n",
       "        vertical-align: top;\n",
       "    }\n",
       "\n",
       "    .dataframe thead th {\n",
       "        text-align: right;\n",
       "    }\n",
       "</style>\n",
       "<table border=\"1\" class=\"dataframe\">\n",
       "  <thead>\n",
       "    <tr style=\"text-align: right;\">\n",
       "      <th></th>\n",
       "      <th>location</th>\n",
       "      <th>level_1</th>\n",
       "      <th>C400A2E19293</th>\n",
       "      <th>CD4533FFC0E1</th>\n",
       "      <th>D2B6503554D7</th>\n",
       "      <th>DB8B36A69C56</th>\n",
       "      <th>DD697EA75B68</th>\n",
       "      <th>DF231643E227</th>\n",
       "      <th>E13B805C6CB0</th>\n",
       "      <th>E43355CA8B96</th>\n",
       "      <th>...</th>\n",
       "      <th>E8FD0B453DC4</th>\n",
       "      <th>E96AF2C858BA</th>\n",
       "      <th>EC72840D9AD3</th>\n",
       "      <th>F1307ECB3B90</th>\n",
       "      <th>F1EDAF28E08A</th>\n",
       "      <th>F69A86823B96</th>\n",
       "      <th>FB2EE01C18CE</th>\n",
       "      <th>FDAE5980F28C</th>\n",
       "      <th>X</th>\n",
       "      <th>Y</th>\n",
       "    </tr>\n",
       "  </thead>\n",
       "  <tbody>\n",
       "    <tr>\n",
       "      <th>0</th>\n",
       "      <td>V1_10</td>\n",
       "      <td>30171</td>\n",
       "      <td>0.270859</td>\n",
       "      <td>0.233392</td>\n",
       "      <td>0.211301</td>\n",
       "      <td>0.353549</td>\n",
       "      <td>0.281666</td>\n",
       "      <td>0.193480</td>\n",
       "      <td>0.167370</td>\n",
       "      <td>0.284954</td>\n",
       "      <td>...</td>\n",
       "      <td>0.207280</td>\n",
       "      <td>0.113343</td>\n",
       "      <td>0.307202</td>\n",
       "      <td>0.356753</td>\n",
       "      <td>0.255005</td>\n",
       "      <td>0.218772</td>\n",
       "      <td>0.043828</td>\n",
       "      <td>0.278136</td>\n",
       "      <td>11.17660</td>\n",
       "      <td>5.29753</td>\n",
       "    </tr>\n",
       "    <tr>\n",
       "      <th>1</th>\n",
       "      <td>V1_10</td>\n",
       "      <td>30172</td>\n",
       "      <td>0.269998</td>\n",
       "      <td>0.232650</td>\n",
       "      <td>0.210630</td>\n",
       "      <td>0.352425</td>\n",
       "      <td>0.280771</td>\n",
       "      <td>0.192865</td>\n",
       "      <td>0.184881</td>\n",
       "      <td>0.284048</td>\n",
       "      <td>...</td>\n",
       "      <td>0.206622</td>\n",
       "      <td>0.112983</td>\n",
       "      <td>0.306226</td>\n",
       "      <td>0.355619</td>\n",
       "      <td>0.254194</td>\n",
       "      <td>0.218076</td>\n",
       "      <td>0.043688</td>\n",
       "      <td>0.277252</td>\n",
       "      <td>11.17660</td>\n",
       "      <td>5.29753</td>\n",
       "    </tr>\n",
       "    <tr>\n",
       "      <th>2</th>\n",
       "      <td>V1_10</td>\n",
       "      <td>30173</td>\n",
       "      <td>0.323051</td>\n",
       "      <td>0.228668</td>\n",
       "      <td>0.207025</td>\n",
       "      <td>0.346393</td>\n",
       "      <td>0.275966</td>\n",
       "      <td>0.189564</td>\n",
       "      <td>0.181716</td>\n",
       "      <td>0.279187</td>\n",
       "      <td>...</td>\n",
       "      <td>0.203085</td>\n",
       "      <td>0.111049</td>\n",
       "      <td>0.300985</td>\n",
       "      <td>0.349533</td>\n",
       "      <td>0.249844</td>\n",
       "      <td>0.214344</td>\n",
       "      <td>0.042941</td>\n",
       "      <td>0.272507</td>\n",
       "      <td>11.17660</td>\n",
       "      <td>5.29753</td>\n",
       "    </tr>\n",
       "    <tr>\n",
       "      <th>3</th>\n",
       "      <td>V1_10</td>\n",
       "      <td>30176</td>\n",
       "      <td>0.322614</td>\n",
       "      <td>0.228359</td>\n",
       "      <td>0.206745</td>\n",
       "      <td>0.345925</td>\n",
       "      <td>0.275592</td>\n",
       "      <td>0.189307</td>\n",
       "      <td>0.181471</td>\n",
       "      <td>0.278809</td>\n",
       "      <td>...</td>\n",
       "      <td>0.202811</td>\n",
       "      <td>0.110899</td>\n",
       "      <td>0.300577</td>\n",
       "      <td>0.352859</td>\n",
       "      <td>0.249506</td>\n",
       "      <td>0.214054</td>\n",
       "      <td>0.042883</td>\n",
       "      <td>0.272206</td>\n",
       "      <td>11.17660</td>\n",
       "      <td>5.29753</td>\n",
       "    </tr>\n",
       "    <tr>\n",
       "      <th>4</th>\n",
       "      <td>V1_10</td>\n",
       "      <td>30177</td>\n",
       "      <td>0.323185</td>\n",
       "      <td>0.228763</td>\n",
       "      <td>0.207111</td>\n",
       "      <td>0.346537</td>\n",
       "      <td>0.276080</td>\n",
       "      <td>0.189643</td>\n",
       "      <td>0.181792</td>\n",
       "      <td>0.279303</td>\n",
       "      <td>...</td>\n",
       "      <td>0.203170</td>\n",
       "      <td>0.111095</td>\n",
       "      <td>0.301110</td>\n",
       "      <td>0.348434</td>\n",
       "      <td>0.249948</td>\n",
       "      <td>0.214433</td>\n",
       "      <td>0.042959</td>\n",
       "      <td>0.272688</td>\n",
       "      <td>11.17660</td>\n",
       "      <td>5.29753</td>\n",
       "    </tr>\n",
       "    <tr>\n",
       "      <th>...</th>\n",
       "      <td>...</td>\n",
       "      <td>...</td>\n",
       "      <td>...</td>\n",
       "      <td>...</td>\n",
       "      <td>...</td>\n",
       "      <td>...</td>\n",
       "      <td>...</td>\n",
       "      <td>...</td>\n",
       "      <td>...</td>\n",
       "      <td>...</td>\n",
       "      <td>...</td>\n",
       "      <td>...</td>\n",
       "      <td>...</td>\n",
       "      <td>...</td>\n",
       "      <td>...</td>\n",
       "      <td>...</td>\n",
       "      <td>...</td>\n",
       "      <td>...</td>\n",
       "      <td>...</td>\n",
       "      <td>...</td>\n",
       "      <td>...</td>\n",
       "    </tr>\n",
       "    <tr>\n",
       "      <th>102028</th>\n",
       "      <td>V1_9</td>\n",
       "      <td>31037</td>\n",
       "      <td>0.272912</td>\n",
       "      <td>0.159663</td>\n",
       "      <td>0.211646</td>\n",
       "      <td>0.328608</td>\n",
       "      <td>0.167089</td>\n",
       "      <td>0.100253</td>\n",
       "      <td>0.222785</td>\n",
       "      <td>0.412153</td>\n",
       "      <td>...</td>\n",
       "      <td>0.200507</td>\n",
       "      <td>0.100253</td>\n",
       "      <td>0.306330</td>\n",
       "      <td>0.263629</td>\n",
       "      <td>0.303545</td>\n",
       "      <td>0.206076</td>\n",
       "      <td>0.066836</td>\n",
       "      <td>0.367595</td>\n",
       "      <td>8.17867</td>\n",
       "      <td>5.28213</td>\n",
       "    </tr>\n",
       "    <tr>\n",
       "      <th>102029</th>\n",
       "      <td>V1_9</td>\n",
       "      <td>31039</td>\n",
       "      <td>0.275097</td>\n",
       "      <td>0.160941</td>\n",
       "      <td>0.213341</td>\n",
       "      <td>0.312151</td>\n",
       "      <td>0.168427</td>\n",
       "      <td>0.101056</td>\n",
       "      <td>0.224569</td>\n",
       "      <td>0.415453</td>\n",
       "      <td>...</td>\n",
       "      <td>0.202112</td>\n",
       "      <td>0.101056</td>\n",
       "      <td>0.308783</td>\n",
       "      <td>0.265740</td>\n",
       "      <td>0.305976</td>\n",
       "      <td>0.198370</td>\n",
       "      <td>0.067371</td>\n",
       "      <td>0.370539</td>\n",
       "      <td>8.17867</td>\n",
       "      <td>5.28213</td>\n",
       "    </tr>\n",
       "    <tr>\n",
       "      <th>102030</th>\n",
       "      <td>V1_9</td>\n",
       "      <td>31040</td>\n",
       "      <td>0.275097</td>\n",
       "      <td>0.140356</td>\n",
       "      <td>0.213341</td>\n",
       "      <td>0.312151</td>\n",
       "      <td>0.168427</td>\n",
       "      <td>0.123513</td>\n",
       "      <td>0.224569</td>\n",
       "      <td>0.415453</td>\n",
       "      <td>...</td>\n",
       "      <td>0.202112</td>\n",
       "      <td>0.101056</td>\n",
       "      <td>0.310654</td>\n",
       "      <td>0.265740</td>\n",
       "      <td>0.305976</td>\n",
       "      <td>0.198370</td>\n",
       "      <td>0.067371</td>\n",
       "      <td>0.370539</td>\n",
       "      <td>8.17867</td>\n",
       "      <td>5.28213</td>\n",
       "    </tr>\n",
       "    <tr>\n",
       "      <th>102031</th>\n",
       "      <td>V1_9</td>\n",
       "      <td>31042</td>\n",
       "      <td>0.273806</td>\n",
       "      <td>0.139697</td>\n",
       "      <td>0.212339</td>\n",
       "      <td>0.310686</td>\n",
       "      <td>0.167636</td>\n",
       "      <td>0.122933</td>\n",
       "      <td>0.223515</td>\n",
       "      <td>0.424679</td>\n",
       "      <td>...</td>\n",
       "      <td>0.201164</td>\n",
       "      <td>0.100582</td>\n",
       "      <td>0.309196</td>\n",
       "      <td>0.264493</td>\n",
       "      <td>0.304539</td>\n",
       "      <td>0.197438</td>\n",
       "      <td>0.067055</td>\n",
       "      <td>0.368800</td>\n",
       "      <td>8.17867</td>\n",
       "      <td>5.28213</td>\n",
       "    </tr>\n",
       "    <tr>\n",
       "      <th>102032</th>\n",
       "      <td>V1_9</td>\n",
       "      <td>31043</td>\n",
       "      <td>0.242039</td>\n",
       "      <td>0.139638</td>\n",
       "      <td>0.212250</td>\n",
       "      <td>0.310555</td>\n",
       "      <td>0.167566</td>\n",
       "      <td>0.122882</td>\n",
       "      <td>0.223421</td>\n",
       "      <td>0.424500</td>\n",
       "      <td>...</td>\n",
       "      <td>0.201079</td>\n",
       "      <td>0.100539</td>\n",
       "      <td>0.309066</td>\n",
       "      <td>0.264381</td>\n",
       "      <td>0.331408</td>\n",
       "      <td>0.197355</td>\n",
       "      <td>0.067026</td>\n",
       "      <td>0.368645</td>\n",
       "      <td>8.17867</td>\n",
       "      <td>5.28213</td>\n",
       "    </tr>\n",
       "  </tbody>\n",
       "</table>\n",
       "<p>102033 rows × 21 columns</p>\n",
       "</div>"
      ],
      "text/plain": [
       "       location  level_1  C400A2E19293  CD4533FFC0E1  D2B6503554D7  \\\n",
       "0         V1_10    30171      0.270859      0.233392      0.211301   \n",
       "1         V1_10    30172      0.269998      0.232650      0.210630   \n",
       "2         V1_10    30173      0.323051      0.228668      0.207025   \n",
       "3         V1_10    30176      0.322614      0.228359      0.206745   \n",
       "4         V1_10    30177      0.323185      0.228763      0.207111   \n",
       "...         ...      ...           ...           ...           ...   \n",
       "102028     V1_9    31037      0.272912      0.159663      0.211646   \n",
       "102029     V1_9    31039      0.275097      0.160941      0.213341   \n",
       "102030     V1_9    31040      0.275097      0.140356      0.213341   \n",
       "102031     V1_9    31042      0.273806      0.139697      0.212339   \n",
       "102032     V1_9    31043      0.242039      0.139638      0.212250   \n",
       "\n",
       "        DB8B36A69C56  DD697EA75B68  DF231643E227  E13B805C6CB0  E43355CA8B96  \\\n",
       "0           0.353549      0.281666      0.193480      0.167370      0.284954   \n",
       "1           0.352425      0.280771      0.192865      0.184881      0.284048   \n",
       "2           0.346393      0.275966      0.189564      0.181716      0.279187   \n",
       "3           0.345925      0.275592      0.189307      0.181471      0.278809   \n",
       "4           0.346537      0.276080      0.189643      0.181792      0.279303   \n",
       "...              ...           ...           ...           ...           ...   \n",
       "102028      0.328608      0.167089      0.100253      0.222785      0.412153   \n",
       "102029      0.312151      0.168427      0.101056      0.224569      0.415453   \n",
       "102030      0.312151      0.168427      0.123513      0.224569      0.415453   \n",
       "102031      0.310686      0.167636      0.122933      0.223515      0.424679   \n",
       "102032      0.310555      0.167566      0.122882      0.223421      0.424500   \n",
       "\n",
       "        ...  E8FD0B453DC4  E96AF2C858BA  EC72840D9AD3  F1307ECB3B90  \\\n",
       "0       ...      0.207280      0.113343      0.307202      0.356753   \n",
       "1       ...      0.206622      0.112983      0.306226      0.355619   \n",
       "2       ...      0.203085      0.111049      0.300985      0.349533   \n",
       "3       ...      0.202811      0.110899      0.300577      0.352859   \n",
       "4       ...      0.203170      0.111095      0.301110      0.348434   \n",
       "...     ...           ...           ...           ...           ...   \n",
       "102028  ...      0.200507      0.100253      0.306330      0.263629   \n",
       "102029  ...      0.202112      0.101056      0.308783      0.265740   \n",
       "102030  ...      0.202112      0.101056      0.310654      0.265740   \n",
       "102031  ...      0.201164      0.100582      0.309196      0.264493   \n",
       "102032  ...      0.201079      0.100539      0.309066      0.264381   \n",
       "\n",
       "        F1EDAF28E08A  F69A86823B96  FB2EE01C18CE  FDAE5980F28C         X  \\\n",
       "0           0.255005      0.218772      0.043828      0.278136  11.17660   \n",
       "1           0.254194      0.218076      0.043688      0.277252  11.17660   \n",
       "2           0.249844      0.214344      0.042941      0.272507  11.17660   \n",
       "3           0.249506      0.214054      0.042883      0.272206  11.17660   \n",
       "4           0.249948      0.214433      0.042959      0.272688  11.17660   \n",
       "...              ...           ...           ...           ...       ...   \n",
       "102028      0.303545      0.206076      0.066836      0.367595   8.17867   \n",
       "102029      0.305976      0.198370      0.067371      0.370539   8.17867   \n",
       "102030      0.305976      0.198370      0.067371      0.370539   8.17867   \n",
       "102031      0.304539      0.197438      0.067055      0.368800   8.17867   \n",
       "102032      0.331408      0.197355      0.067026      0.368645   8.17867   \n",
       "\n",
       "              Y  \n",
       "0       5.29753  \n",
       "1       5.29753  \n",
       "2       5.29753  \n",
       "3       5.29753  \n",
       "4       5.29753  \n",
       "...         ...  \n",
       "102028  5.28213  \n",
       "102029  5.28213  \n",
       "102030  5.28213  \n",
       "102031  5.28213  \n",
       "102032  5.28213  \n",
       "\n",
       "[102033 rows x 21 columns]"
      ]
     },
     "execution_count": 16,
     "metadata": {},
     "output_type": "execute_result"
    }
   ],
   "source": [
    "train_imputed"
   ]
  },
  {
   "cell_type": "code",
   "execution_count": 17,
   "metadata": {},
   "outputs": [],
   "source": [
    "X_train, y_train = train_imputed[scanners].copy(), train_imputed[[\"X\", \"Y\"]].copy()\n",
    "X_validation, y_validation = validation_imputed[scanners].copy(), validation_imputed[[\"X\", \"Y\"]].copy()\n",
    "X_test, y_test = test_imputed[scanners].copy(), test_imputed[[\"X\", \"Y\"]].copy()"
   ]
  },
  {
   "cell_type": "code",
   "execution_count": 18,
   "metadata": {},
   "outputs": [],
   "source": [
    "series = data[data['location'] == 'V1_22']['E96AF2C858BA']"
   ]
  },
  {
   "cell_type": "code",
   "execution_count": 19,
   "metadata": {},
   "outputs": [
    {
     "data": {
      "text/plain": [
       "[<matplotlib.lines.Line2D at 0x7efd847589d0>]"
      ]
     },
     "execution_count": 19,
     "metadata": {},
     "output_type": "execute_result"
    },
    {
     "data": {
      "image/png": "[encoded data removed]",
      "text/plain": [
       "<Figure size 432x288 with 1 Axes>"
      ]
     },
     "metadata": {},
     "output_type": "display_data"
    }
   ],
   "source": [
    "plt.plot(series)"
   ]
  },
  {
   "cell_type": "code",
   "execution_count": 21,
   "metadata": {},
   "outputs": [],
   "source": [
    "@jit(nopython=True)\n",
    "def hampel_filter(input_series, window_size, n_sigmas=3):\n",
    "    \n",
    "    n = len(input_series)\n",
    "    new_series = input_series.copy()\n",
    "    k = 1.4826 # scale factor for Gaussian distribution\n",
    "    indices = []\n",
    "    \n",
    "    for i in range((window_size),(n - window_size)):\n",
    "        x0 = np.nanmedian(input_series[(i - window_size):(i + window_size)])\n",
    "        S0 = k * np.nanmedian(np.abs(input_series[(i - window_size):(i + window_size)] - x0))\n",
    "        if (np.abs(input_series[i] - x0) > n_sigmas * S0):\n",
    "            new_series[i] = x0\n",
    "            indices.append(i)\n",
    "    \n",
    "    return new_series, indices"
   ]
  },
  {
   "cell_type": "code",
   "execution_count": 24,
   "metadata": {},
   "outputs": [],
   "source": [
    "res, outlier_ind = hampel_filter(series.values, 10)"
   ]
  },
  {
   "cell_type": "code",
   "execution_count": 27,
   "metadata": {},
   "outputs": [
    {
     "name": "stderr",
     "output_type": "stream",
     "text": [
      "/home/mimos/anaconda3/envs/loc/lib/python3.7/site-packages/pandas/core/series.py:1146: FutureWarning: \n",
      "Passing list-likes to .loc or [] with any missing label will raise\n",
      "KeyError in the future, you can use .reindex() as an alternative.\n",
      "\n",
      "See the documentation here:\n",
      "https://pandas.pydata.org/pandas-docs/stable/user_guide/indexing.html#deprecate-loc-reindex-listlike\n",
      "  return self.loc[key]\n"
     ]
    },
    {
     "data": {
      "image/png": "[encoded data removed]",
      "text/plain": [
       "<Figure size 432x288 with 1 Axes>"
      ]
     },
     "metadata": {},
     "output_type": "display_data"
    }
   ],
   "source": [
    "plt.plot(series);\n",
    "plt.scatter(outlier_ind, series[outlier_ind], c='r', label='Outlier')\n",
    "plt.legend();"
   ]
  },
  {
   "cell_type": "code",
   "execution_count": null,
   "metadata": {},
   "outputs": [],
   "source": []
  }
 ],
 "metadata": {
  "kernelspec": {
   "display_name": "Python 3",
   "language": "python",
   "name": "python3"
  },
  "language_info": {
   "codemirror_mode": {
    "name": "ipython",
    "version": 3
   },
   "file_extension": ".py",
   "mimetype": "text/x-python",
   "name": "python",
   "nbconvert_exporter": "python",
   "pygments_lexer": "ipython3",
   "version": "3.7.5"
  }
 },
 "nbformat": 4,
 "nbformat_minor": 2
}
