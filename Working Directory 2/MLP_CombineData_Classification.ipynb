{
 "cells": [
  {
   "cell_type": "code",
   "execution_count": 1,
   "metadata": {},
   "outputs": [
    {
     "data": {
      "text/html": [
       "<style>.container { width: 98% !important }</style>"
      ],
      "text/plain": [
       "<IPython.core.display.HTML object>"
      ]
     },
     "metadata": {},
     "output_type": "display_data"
    }
   ],
   "source": [
    "from IPython.core.display import display, HTML\n",
    "display(HTML('<style>.container { width: 98% !important }</style>'))"
   ]
  },
  {
   "cell_type": "code",
   "execution_count": 2,
   "metadata": {},
   "outputs": [],
   "source": [
    "from utilities import *"
   ]
  },
  {
   "cell_type": "code",
   "execution_count": 3,
   "metadata": {},
   "outputs": [],
   "source": [
    "import joblib\n",
    "import tensorflow as tf\n",
    "import tensorflow_docs as tfdocs\n",
    "import tensorflow_docs.plots\n",
    "from sklearn.preprocessing import normalize\n",
    "from sklearn.preprocessing import LabelEncoder\n",
    "import seaborn as sns\n",
    "\n",
    "sns.set()"
   ]
  },
  {
   "cell_type": "code",
   "execution_count": 4,
   "metadata": {},
   "outputs": [],
   "source": [
    "import os\n",
    "os.environ['CUDA_VISIBLE_DEVICES'] = '-1'"
   ]
  },
  {
   "cell_type": "markdown",
   "metadata": {},
   "source": [
    "## Import Data"
   ]
  },
  {
   "cell_type": "code",
   "execution_count": 5,
   "metadata": {},
   "outputs": [],
   "source": [
    "pin = read_pin('../Data/pin.csv')\n",
    "test_pin = read_pin('../Data/testPin.csv')\n",
    "ble = read_ble('../Data/ble.csv')"
   ]
  },
  {
   "cell_type": "code",
   "execution_count": 6,
   "metadata": {},
   "outputs": [
    {
     "name": "stdout",
     "output_type": "stream",
     "text": [
      "All beacons: ['0117C55D14E4']\n",
      "Selecting all\n",
      "All beacons: ['0117C55D14E4']\n",
      "Selecting all\n"
     ]
    }
   ],
   "source": [
    "data_1 = read_data('../Data/rssi5.csv')\n",
    "data_2 = read_data('../Data/rssi_2.csv')"
   ]
  },
  {
   "cell_type": "code",
   "execution_count": 7,
   "metadata": {},
   "outputs": [
    {
     "name": "stdout",
     "output_type": "stream",
     "text": [
      "All beacons: ['0117C55D14E4']\n",
      "Selecting all\n",
      "All beacons: ['0117C55D14E4']\n",
      "Selecting all\n"
     ]
    }
   ],
   "source": [
    "test_1 = read_data('../Data/testRssi.csv')\n",
    "test_2 = read_data('../Data/testRssi_2.csv')"
   ]
  },
  {
   "cell_type": "code",
   "execution_count": 8,
   "metadata": {},
   "outputs": [],
   "source": [
    "data = pd.concat([data_1, data_2], axis=0)\n",
    "test = pd.concat([test_1, test_2], axis=0)"
   ]
  },
  {
   "cell_type": "code",
   "execution_count": 9,
   "metadata": {},
   "outputs": [
    {
     "data": {
      "text/plain": [
       "(27229, 19)"
      ]
     },
     "execution_count": 9,
     "metadata": {},
     "output_type": "execute_result"
    }
   ],
   "source": [
    "test.shape"
   ]
  },
  {
   "cell_type": "markdown",
   "metadata": {},
   "source": [
    "## Train Validation Split"
   ]
  },
  {
   "cell_type": "code",
   "execution_count": 10,
   "metadata": {},
   "outputs": [],
   "source": [
    "train, validation = train_validation_split(data)"
   ]
  },
  {
   "cell_type": "code",
   "execution_count": 11,
   "metadata": {},
   "outputs": [
    {
     "name": "stdout",
     "output_type": "stream",
     "text": [
      "(102033, 19)\n",
      "(11337, 19)\n"
     ]
    }
   ],
   "source": [
    "print(train.shape)\n",
    "print(validation.shape)"
   ]
  },
  {
   "cell_type": "code",
   "execution_count": 12,
   "metadata": {},
   "outputs": [],
   "source": [
    "def linear_impute(data):\n",
    "    for s in scanners:\n",
    "        dx = data['X'] - ble[s]['X']\n",
    "        dy = data['Y'] - ble[s]['Y']\n",
    "        d = np.sqrt(np.square(dy) + np.square(dx))\n",
    "        reg = joblib.load('../Models/linear_distance_models_2/{}.joblib'.format(s))\n",
    "        ss = pd.Series(reg.predict(d.values.reshape((-1, 1))))\n",
    "        data[s].fillna(ss, inplace=True)\n",
    "\n",
    "def impute(data):\n",
    "    rolling_win = 30\n",
    "\n",
    "    data = data.sort_values(\"time\")\n",
    "    data_rolled = data.groupby(\"location\").rolling(rolling_win, min_periods=1).mean().reset_index()\n",
    "    data_imputed = data_rolled.set_index(\"location\").groupby(\"location\").ffill()\n",
    "    data_imputed.reset_index(inplace=True)\n",
    "    data_imputed[\"X\"] = data_imputed[\"location\"].apply(lambda x: pin[x][\"X\"] if x[0] == 'V' else test_pin[x][\"X\"])\n",
    "    data_imputed[\"Y\"] = data_imputed[\"location\"].apply(lambda x: pin[x][\"Y\"] if x[0] == 'V' else test_pin[x][\"Y\"])\n",
    "    linear_impute(data_imputed)\n",
    "    return data_imputed"
   ]
  },
  {
   "cell_type": "code",
   "execution_count": 13,
   "metadata": {},
   "outputs": [],
   "source": [
    "train_imputed = impute(train)\n",
    "validation_imputed = impute(validation)\n",
    "test_imputed = impute(test)"
   ]
  },
  {
   "cell_type": "code",
   "execution_count": 14,
   "metadata": {},
   "outputs": [],
   "source": [
    "train_imputed[scanners] = normalize(train_imputed[scanners] + 100)\n",
    "validation_imputed[scanners] = normalize(validation_imputed[scanners] + 100)\n",
    "test_imputed[scanners] = normalize(test_imputed[scanners] + 100)"
   ]
  },
  {
   "cell_type": "code",
   "execution_count": 15,
   "metadata": {},
   "outputs": [
    {
     "data": {
      "text/html": [
       "<div>\n",
       "<style scoped>\n",
       "    .dataframe tbody tr th:only-of-type {\n",
       "        vertical-align: middle;\n",
       "    }\n",
       "\n",
       "    .dataframe tbody tr th {\n",
       "        vertical-align: top;\n",
       "    }\n",
       "\n",
       "    .dataframe thead th {\n",
       "        text-align: right;\n",
       "    }\n",
       "</style>\n",
       "<table border=\"1\" class=\"dataframe\">\n",
       "  <thead>\n",
       "    <tr style=\"text-align: right;\">\n",
       "      <th></th>\n",
       "      <th>location</th>\n",
       "      <th>level_1</th>\n",
       "      <th>C400A2E19293</th>\n",
       "      <th>CD4533FFC0E1</th>\n",
       "      <th>D2B6503554D7</th>\n",
       "      <th>DB8B36A69C56</th>\n",
       "      <th>DD697EA75B68</th>\n",
       "      <th>DF231643E227</th>\n",
       "      <th>E13B805C6CB0</th>\n",
       "      <th>E43355CA8B96</th>\n",
       "      <th>...</th>\n",
       "      <th>E8FD0B453DC4</th>\n",
       "      <th>E96AF2C858BA</th>\n",
       "      <th>EC72840D9AD3</th>\n",
       "      <th>F1307ECB3B90</th>\n",
       "      <th>F1EDAF28E08A</th>\n",
       "      <th>F69A86823B96</th>\n",
       "      <th>FB2EE01C18CE</th>\n",
       "      <th>FDAE5980F28C</th>\n",
       "      <th>X</th>\n",
       "      <th>Y</th>\n",
       "    </tr>\n",
       "  </thead>\n",
       "  <tbody>\n",
       "    <tr>\n",
       "      <th>0</th>\n",
       "      <td>V1_10</td>\n",
       "      <td>30171</td>\n",
       "      <td>0.270859</td>\n",
       "      <td>0.233392</td>\n",
       "      <td>0.211301</td>\n",
       "      <td>0.353549</td>\n",
       "      <td>0.281666</td>\n",
       "      <td>0.193480</td>\n",
       "      <td>0.167370</td>\n",
       "      <td>0.284954</td>\n",
       "      <td>...</td>\n",
       "      <td>0.207280</td>\n",
       "      <td>0.113343</td>\n",
       "      <td>0.307202</td>\n",
       "      <td>0.356753</td>\n",
       "      <td>0.255005</td>\n",
       "      <td>0.218772</td>\n",
       "      <td>0.043828</td>\n",
       "      <td>0.278136</td>\n",
       "      <td>11.17660</td>\n",
       "      <td>5.29753</td>\n",
       "    </tr>\n",
       "    <tr>\n",
       "      <th>1</th>\n",
       "      <td>V1_10</td>\n",
       "      <td>30172</td>\n",
       "      <td>0.269998</td>\n",
       "      <td>0.232650</td>\n",
       "      <td>0.210630</td>\n",
       "      <td>0.352425</td>\n",
       "      <td>0.280771</td>\n",
       "      <td>0.192865</td>\n",
       "      <td>0.184881</td>\n",
       "      <td>0.284048</td>\n",
       "      <td>...</td>\n",
       "      <td>0.206622</td>\n",
       "      <td>0.112983</td>\n",
       "      <td>0.306226</td>\n",
       "      <td>0.355619</td>\n",
       "      <td>0.254194</td>\n",
       "      <td>0.218076</td>\n",
       "      <td>0.043688</td>\n",
       "      <td>0.277252</td>\n",
       "      <td>11.17660</td>\n",
       "      <td>5.29753</td>\n",
       "    </tr>\n",
       "    <tr>\n",
       "      <th>2</th>\n",
       "      <td>V1_10</td>\n",
       "      <td>30173</td>\n",
       "      <td>0.323051</td>\n",
       "      <td>0.228668</td>\n",
       "      <td>0.207025</td>\n",
       "      <td>0.346393</td>\n",
       "      <td>0.275966</td>\n",
       "      <td>0.189564</td>\n",
       "      <td>0.181716</td>\n",
       "      <td>0.279187</td>\n",
       "      <td>...</td>\n",
       "      <td>0.203085</td>\n",
       "      <td>0.111049</td>\n",
       "      <td>0.300985</td>\n",
       "      <td>0.349533</td>\n",
       "      <td>0.249844</td>\n",
       "      <td>0.214344</td>\n",
       "      <td>0.042941</td>\n",
       "      <td>0.272507</td>\n",
       "      <td>11.17660</td>\n",
       "      <td>5.29753</td>\n",
       "    </tr>\n",
       "    <tr>\n",
       "      <th>3</th>\n",
       "      <td>V1_10</td>\n",
       "      <td>30176</td>\n",
       "      <td>0.322614</td>\n",
       "      <td>0.228359</td>\n",
       "      <td>0.206745</td>\n",
       "      <td>0.345925</td>\n",
       "      <td>0.275592</td>\n",
       "      <td>0.189307</td>\n",
       "      <td>0.181471</td>\n",
       "      <td>0.278809</td>\n",
       "      <td>...</td>\n",
       "      <td>0.202811</td>\n",
       "      <td>0.110899</td>\n",
       "      <td>0.300577</td>\n",
       "      <td>0.352859</td>\n",
       "      <td>0.249506</td>\n",
       "      <td>0.214054</td>\n",
       "      <td>0.042883</td>\n",
       "      <td>0.272206</td>\n",
       "      <td>11.17660</td>\n",
       "      <td>5.29753</td>\n",
       "    </tr>\n",
       "    <tr>\n",
       "      <th>4</th>\n",
       "      <td>V1_10</td>\n",
       "      <td>30177</td>\n",
       "      <td>0.323185</td>\n",
       "      <td>0.228763</td>\n",
       "      <td>0.207111</td>\n",
       "      <td>0.346537</td>\n",
       "      <td>0.276080</td>\n",
       "      <td>0.189643</td>\n",
       "      <td>0.181792</td>\n",
       "      <td>0.279303</td>\n",
       "      <td>...</td>\n",
       "      <td>0.203170</td>\n",
       "      <td>0.111095</td>\n",
       "      <td>0.301110</td>\n",
       "      <td>0.348434</td>\n",
       "      <td>0.249948</td>\n",
       "      <td>0.214433</td>\n",
       "      <td>0.042959</td>\n",
       "      <td>0.272688</td>\n",
       "      <td>11.17660</td>\n",
       "      <td>5.29753</td>\n",
       "    </tr>\n",
       "    <tr>\n",
       "      <th>...</th>\n",
       "      <td>...</td>\n",
       "      <td>...</td>\n",
       "      <td>...</td>\n",
       "      <td>...</td>\n",
       "      <td>...</td>\n",
       "      <td>...</td>\n",
       "      <td>...</td>\n",
       "      <td>...</td>\n",
       "      <td>...</td>\n",
       "      <td>...</td>\n",
       "      <td>...</td>\n",
       "      <td>...</td>\n",
       "      <td>...</td>\n",
       "      <td>...</td>\n",
       "      <td>...</td>\n",
       "      <td>...</td>\n",
       "      <td>...</td>\n",
       "      <td>...</td>\n",
       "      <td>...</td>\n",
       "      <td>...</td>\n",
       "      <td>...</td>\n",
       "    </tr>\n",
       "    <tr>\n",
       "      <th>102028</th>\n",
       "      <td>V1_9</td>\n",
       "      <td>31037</td>\n",
       "      <td>0.272912</td>\n",
       "      <td>0.159663</td>\n",
       "      <td>0.211646</td>\n",
       "      <td>0.328608</td>\n",
       "      <td>0.167089</td>\n",
       "      <td>0.100253</td>\n",
       "      <td>0.222785</td>\n",
       "      <td>0.412153</td>\n",
       "      <td>...</td>\n",
       "      <td>0.200507</td>\n",
       "      <td>0.100253</td>\n",
       "      <td>0.306330</td>\n",
       "      <td>0.263629</td>\n",
       "      <td>0.303545</td>\n",
       "      <td>0.206076</td>\n",
       "      <td>0.066836</td>\n",
       "      <td>0.367595</td>\n",
       "      <td>8.17867</td>\n",
       "      <td>5.28213</td>\n",
       "    </tr>\n",
       "    <tr>\n",
       "      <th>102029</th>\n",
       "      <td>V1_9</td>\n",
       "      <td>31039</td>\n",
       "      <td>0.275097</td>\n",
       "      <td>0.160941</td>\n",
       "      <td>0.213341</td>\n",
       "      <td>0.312151</td>\n",
       "      <td>0.168427</td>\n",
       "      <td>0.101056</td>\n",
       "      <td>0.224569</td>\n",
       "      <td>0.415453</td>\n",
       "      <td>...</td>\n",
       "      <td>0.202112</td>\n",
       "      <td>0.101056</td>\n",
       "      <td>0.308783</td>\n",
       "      <td>0.265740</td>\n",
       "      <td>0.305976</td>\n",
       "      <td>0.198370</td>\n",
       "      <td>0.067371</td>\n",
       "      <td>0.370539</td>\n",
       "      <td>8.17867</td>\n",
       "      <td>5.28213</td>\n",
       "    </tr>\n",
       "    <tr>\n",
       "      <th>102030</th>\n",
       "      <td>V1_9</td>\n",
       "      <td>31040</td>\n",
       "      <td>0.275097</td>\n",
       "      <td>0.140356</td>\n",
       "      <td>0.213341</td>\n",
       "      <td>0.312151</td>\n",
       "      <td>0.168427</td>\n",
       "      <td>0.123513</td>\n",
       "      <td>0.224569</td>\n",
       "      <td>0.415453</td>\n",
       "      <td>...</td>\n",
       "      <td>0.202112</td>\n",
       "      <td>0.101056</td>\n",
       "      <td>0.310654</td>\n",
       "      <td>0.265740</td>\n",
       "      <td>0.305976</td>\n",
       "      <td>0.198370</td>\n",
       "      <td>0.067371</td>\n",
       "      <td>0.370539</td>\n",
       "      <td>8.17867</td>\n",
       "      <td>5.28213</td>\n",
       "    </tr>\n",
       "    <tr>\n",
       "      <th>102031</th>\n",
       "      <td>V1_9</td>\n",
       "      <td>31042</td>\n",
       "      <td>0.273806</td>\n",
       "      <td>0.139697</td>\n",
       "      <td>0.212339</td>\n",
       "      <td>0.310686</td>\n",
       "      <td>0.167636</td>\n",
       "      <td>0.122933</td>\n",
       "      <td>0.223515</td>\n",
       "      <td>0.424679</td>\n",
       "      <td>...</td>\n",
       "      <td>0.201164</td>\n",
       "      <td>0.100582</td>\n",
       "      <td>0.309196</td>\n",
       "      <td>0.264493</td>\n",
       "      <td>0.304539</td>\n",
       "      <td>0.197438</td>\n",
       "      <td>0.067055</td>\n",
       "      <td>0.368800</td>\n",
       "      <td>8.17867</td>\n",
       "      <td>5.28213</td>\n",
       "    </tr>\n",
       "    <tr>\n",
       "      <th>102032</th>\n",
       "      <td>V1_9</td>\n",
       "      <td>31043</td>\n",
       "      <td>0.242039</td>\n",
       "      <td>0.139638</td>\n",
       "      <td>0.212250</td>\n",
       "      <td>0.310555</td>\n",
       "      <td>0.167566</td>\n",
       "      <td>0.122882</td>\n",
       "      <td>0.223421</td>\n",
       "      <td>0.424500</td>\n",
       "      <td>...</td>\n",
       "      <td>0.201079</td>\n",
       "      <td>0.100539</td>\n",
       "      <td>0.309066</td>\n",
       "      <td>0.264381</td>\n",
       "      <td>0.331408</td>\n",
       "      <td>0.197355</td>\n",
       "      <td>0.067026</td>\n",
       "      <td>0.368645</td>\n",
       "      <td>8.17867</td>\n",
       "      <td>5.28213</td>\n",
       "    </tr>\n",
       "  </tbody>\n",
       "</table>\n",
       "<p>102033 rows × 21 columns</p>\n",
       "</div>"
      ],
      "text/plain": [
       "       location  level_1  C400A2E19293  CD4533FFC0E1  D2B6503554D7  \\\n",
       "0         V1_10    30171      0.270859      0.233392      0.211301   \n",
       "1         V1_10    30172      0.269998      0.232650      0.210630   \n",
       "2         V1_10    30173      0.323051      0.228668      0.207025   \n",
       "3         V1_10    30176      0.322614      0.228359      0.206745   \n",
       "4         V1_10    30177      0.323185      0.228763      0.207111   \n",
       "...         ...      ...           ...           ...           ...   \n",
       "102028     V1_9    31037      0.272912      0.159663      0.211646   \n",
       "102029     V1_9    31039      0.275097      0.160941      0.213341   \n",
       "102030     V1_9    31040      0.275097      0.140356      0.213341   \n",
       "102031     V1_9    31042      0.273806      0.139697      0.212339   \n",
       "102032     V1_9    31043      0.242039      0.139638      0.212250   \n",
       "\n",
       "        DB8B36A69C56  DD697EA75B68  DF231643E227  E13B805C6CB0  E43355CA8B96  \\\n",
       "0           0.353549      0.281666      0.193480      0.167370      0.284954   \n",
       "1           0.352425      0.280771      0.192865      0.184881      0.284048   \n",
       "2           0.346393      0.275966      0.189564      0.181716      0.279187   \n",
       "3           0.345925      0.275592      0.189307      0.181471      0.278809   \n",
       "4           0.346537      0.276080      0.189643      0.181792      0.279303   \n",
       "...              ...           ...           ...           ...           ...   \n",
       "102028      0.328608      0.167089      0.100253      0.222785      0.412153   \n",
       "102029      0.312151      0.168427      0.101056      0.224569      0.415453   \n",
       "102030      0.312151      0.168427      0.123513      0.224569      0.415453   \n",
       "102031      0.310686      0.167636      0.122933      0.223515      0.424679   \n",
       "102032      0.310555      0.167566      0.122882      0.223421      0.424500   \n",
       "\n",
       "        ...  E8FD0B453DC4  E96AF2C858BA  EC72840D9AD3  F1307ECB3B90  \\\n",
       "0       ...      0.207280      0.113343      0.307202      0.356753   \n",
       "1       ...      0.206622      0.112983      0.306226      0.355619   \n",
       "2       ...      0.203085      0.111049      0.300985      0.349533   \n",
       "3       ...      0.202811      0.110899      0.300577      0.352859   \n",
       "4       ...      0.203170      0.111095      0.301110      0.348434   \n",
       "...     ...           ...           ...           ...           ...   \n",
       "102028  ...      0.200507      0.100253      0.306330      0.263629   \n",
       "102029  ...      0.202112      0.101056      0.308783      0.265740   \n",
       "102030  ...      0.202112      0.101056      0.310654      0.265740   \n",
       "102031  ...      0.201164      0.100582      0.309196      0.264493   \n",
       "102032  ...      0.201079      0.100539      0.309066      0.264381   \n",
       "\n",
       "        F1EDAF28E08A  F69A86823B96  FB2EE01C18CE  FDAE5980F28C         X  \\\n",
       "0           0.255005      0.218772      0.043828      0.278136  11.17660   \n",
       "1           0.254194      0.218076      0.043688      0.277252  11.17660   \n",
       "2           0.249844      0.214344      0.042941      0.272507  11.17660   \n",
       "3           0.249506      0.214054      0.042883      0.272206  11.17660   \n",
       "4           0.249948      0.214433      0.042959      0.272688  11.17660   \n",
       "...              ...           ...           ...           ...       ...   \n",
       "102028      0.303545      0.206076      0.066836      0.367595   8.17867   \n",
       "102029      0.305976      0.198370      0.067371      0.370539   8.17867   \n",
       "102030      0.305976      0.198370      0.067371      0.370539   8.17867   \n",
       "102031      0.304539      0.197438      0.067055      0.368800   8.17867   \n",
       "102032      0.331408      0.197355      0.067026      0.368645   8.17867   \n",
       "\n",
       "              Y  \n",
       "0       5.29753  \n",
       "1       5.29753  \n",
       "2       5.29753  \n",
       "3       5.29753  \n",
       "4       5.29753  \n",
       "...         ...  \n",
       "102028  5.28213  \n",
       "102029  5.28213  \n",
       "102030  5.28213  \n",
       "102031  5.28213  \n",
       "102032  5.28213  \n",
       "\n",
       "[102033 rows x 21 columns]"
      ]
     },
     "execution_count": 15,
     "metadata": {},
     "output_type": "execute_result"
    }
   ],
   "source": [
    "train_imputed"
   ]
  },
  {
   "cell_type": "markdown",
   "metadata": {},
   "source": [
    "## Model Training"
   ]
  },
  {
   "cell_type": "code",
   "execution_count": 16,
   "metadata": {},
   "outputs": [],
   "source": [
    "X_train, y_train = train_imputed[scanners].values, train_imputed['location'].values\n",
    "X_validation, y_validation = validation_imputed[scanners].values, validation_imputed['location'].values\n",
    "X_test, y_test = test_imputed[scanners].values, test_imputed['location'].values"
   ]
  },
  {
   "cell_type": "code",
   "execution_count": 17,
   "metadata": {},
   "outputs": [],
   "source": [
    "enc = LabelEncoder()\n",
    "\n",
    "y_train = enc.fit_transform(y_train)\n",
    "y_validation = enc.transform(y_validation)\n",
    "# y_test = enc.transform(y_test)"
   ]
  },
  {
   "cell_type": "code",
   "execution_count": 18,
   "metadata": {},
   "outputs": [],
   "source": [
    "optimizer = tf.keras.optimizers.Adam(0.0001)\n",
    "loss = tf.keras.losses.SparseCategoricalCrossentropy()\n",
    "metrics = [\"accuracy\"]\n",
    "batch_size = 32\n",
    "epochs = 10000\n",
    "\n",
    "callbacks = [\n",
    "    tf.keras.callbacks.EarlyStopping(patience=20, monitor='val_loss')\n",
    "]\n",
    "\n",
    "inputs = tf.keras.Input(shape=(17,))\n",
    "\n",
    "dense = tf.keras.layers.Dense(128, activation='relu')(inputs)\n",
    "dense = tf.keras.layers.Dense(64, activation='relu')(dense)\n",
    "\n",
    "outputs = tf.keras.layers.Dense(21, activation='softmax')(dense)\n",
    "\n",
    "model = tf.keras.Model(inputs=inputs, outputs=outputs)\n",
    "\n",
    "model.compile(optimizer=optimizer, loss=loss, metrics=metrics)"
   ]
  },
  {
   "cell_type": "code",
   "execution_count": 19,
   "metadata": {},
   "outputs": [
    {
     "name": "stdout",
     "output_type": "stream",
     "text": [
      "Model: \"model\"\n",
      "_________________________________________________________________\n",
      "Layer (type)                 Output Shape              Param #   \n",
      "=================================================================\n",
      "input_1 (InputLayer)         [(None, 17)]              0         \n",
      "_________________________________________________________________\n",
      "dense (Dense)                (None, 128)               2304      \n",
      "_________________________________________________________________\n",
      "dense_1 (Dense)              (None, 64)                8256      \n",
      "_________________________________________________________________\n",
      "dense_2 (Dense)              (None, 21)                1365      \n",
      "=================================================================\n",
      "Total params: 11,925\n",
      "Trainable params: 11,925\n",
      "Non-trainable params: 0\n",
      "_________________________________________________________________\n"
     ]
    }
   ],
   "source": [
    "model.summary()"
   ]
  },
  {
   "cell_type": "code",
   "execution_count": 20,
   "metadata": {
    "scrolled": true
   },
   "outputs": [
    {
     "name": "stdout",
     "output_type": "stream",
     "text": [
      "Train on 102033 samples, validate on 11337 samples\n",
      "Epoch 1/10000\n",
      "102033/102033 [==============================] - 3s 31us/sample - loss: 1.8913 - accuracy: 0.5927 - val_loss: 1.0158 - val_accuracy: 0.8581\n",
      "Epoch 2/10000\n",
      "102033/102033 [==============================] - 3s 30us/sample - loss: 0.6928 - accuracy: 0.8812 - val_loss: 0.5086 - val_accuracy: 0.8867\n",
      "Epoch 3/10000\n",
      "102033/102033 [==============================] - 3s 26us/sample - loss: 0.3897 - accuracy: 0.9113 - val_loss: 0.3629 - val_accuracy: 0.9009\n",
      "Epoch 4/10000\n",
      "102033/102033 [==============================] - 3s 25us/sample - loss: 0.2783 - accuracy: 0.9283 - val_loss: 0.2979 - val_accuracy: 0.9089\n",
      "Epoch 5/10000\n",
      "102033/102033 [==============================] - 3s 27us/sample - loss: 0.2182 - accuracy: 0.9420 - val_loss: 0.2546 - val_accuracy: 0.9172\n",
      "Epoch 6/10000\n",
      "102033/102033 [==============================] - 3s 28us/sample - loss: 0.1791 - accuracy: 0.9511 - val_loss: 0.2233 - val_accuracy: 0.9325\n",
      "Epoch 7/10000\n",
      "102033/102033 [==============================] - 3s 25us/sample - loss: 0.1521 - accuracy: 0.9571 - val_loss: 0.1994 - val_accuracy: 0.9411\n",
      "Epoch 8/10000\n",
      "102033/102033 [==============================] - 3s 26us/sample - loss: 0.1327 - accuracy: 0.9612 - val_loss: 0.1930 - val_accuracy: 0.9428\n",
      "Epoch 9/10000\n",
      "102033/102033 [==============================] - 3s 31us/sample - loss: 0.1185 - accuracy: 0.9646 - val_loss: 0.1756 - val_accuracy: 0.9443\n",
      "Epoch 10/10000\n",
      "102033/102033 [==============================] - 3s 28us/sample - loss: 0.1072 - accuracy: 0.9679 - val_loss: 0.1708 - val_accuracy: 0.9460\n",
      "Epoch 11/10000\n",
      "102033/102033 [==============================] - 3s 26us/sample - loss: 0.0982 - accuracy: 0.9704 - val_loss: 0.1581 - val_accuracy: 0.9524\n",
      "Epoch 12/10000\n",
      "102033/102033 [==============================] - 3s 25us/sample - loss: 0.0906 - accuracy: 0.9728 - val_loss: 0.1568 - val_accuracy: 0.9504\n",
      "Epoch 13/10000\n",
      "102033/102033 [==============================] - 3s 26us/sample - loss: 0.0839 - accuracy: 0.9749 - val_loss: 0.1470 - val_accuracy: 0.9559\n",
      "Epoch 14/10000\n",
      "102033/102033 [==============================] - 3s 29us/sample - loss: 0.0782 - accuracy: 0.9765 - val_loss: 0.1454 - val_accuracy: 0.9549\n",
      "Epoch 15/10000\n",
      "102033/102033 [==============================] - 3s 30us/sample - loss: 0.0732 - accuracy: 0.9779 - val_loss: 0.1443 - val_accuracy: 0.9565\n",
      "Epoch 16/10000\n",
      "102033/102033 [==============================] - 3s 27us/sample - loss: 0.0685 - accuracy: 0.9800 - val_loss: 0.1370 - val_accuracy: 0.9594\n",
      "Epoch 17/10000\n",
      "102033/102033 [==============================] - 3s 27us/sample - loss: 0.0645 - accuracy: 0.9814 - val_loss: 0.1319 - val_accuracy: 0.9592\n",
      "Epoch 18/10000\n",
      "102033/102033 [==============================] - 3s 25us/sample - loss: 0.0608 - accuracy: 0.9824 - val_loss: 0.1325 - val_accuracy: 0.9574\n",
      "Epoch 19/10000\n",
      "102033/102033 [==============================] - 3s 25us/sample - loss: 0.0575 - accuracy: 0.9834 - val_loss: 0.1256 - val_accuracy: 0.9594\n",
      "Epoch 20/10000\n",
      "102033/102033 [==============================] - 3s 25us/sample - loss: 0.0545 - accuracy: 0.9845 - val_loss: 0.1339 - val_accuracy: 0.9567\n",
      "Epoch 21/10000\n",
      "102033/102033 [==============================] - 3s 25us/sample - loss: 0.0517 - accuracy: 0.9855 - val_loss: 0.1349 - val_accuracy: 0.9518\n",
      "Epoch 22/10000\n",
      "102033/102033 [==============================] - 3s 25us/sample - loss: 0.0492 - accuracy: 0.9862 - val_loss: 0.1248 - val_accuracy: 0.9577\n",
      "Epoch 23/10000\n",
      "102033/102033 [==============================] - 3s 28us/sample - loss: 0.0468 - accuracy: 0.9872 - val_loss: 0.1360 - val_accuracy: 0.9547\n",
      "Epoch 24/10000\n",
      "102033/102033 [==============================] - 3s 28us/sample - loss: 0.0447 - accuracy: 0.9877 - val_loss: 0.1209 - val_accuracy: 0.9557\n",
      "Epoch 25/10000\n",
      "102033/102033 [==============================] - 3s 25us/sample - loss: 0.0425 - accuracy: 0.9885 - val_loss: 0.1212 - val_accuracy: 0.9593\n",
      "Epoch 26/10000\n",
      "102033/102033 [==============================] - 3s 25us/sample - loss: 0.0410 - accuracy: 0.9886 - val_loss: 0.1135 - val_accuracy: 0.9599\n",
      "Epoch 27/10000\n",
      "102033/102033 [==============================] - 3s 26us/sample - loss: 0.0392 - accuracy: 0.9893 - val_loss: 0.1216 - val_accuracy: 0.9577\n",
      "Epoch 28/10000\n",
      "102033/102033 [==============================] - 3s 25us/sample - loss: 0.0376 - accuracy: 0.9900 - val_loss: 0.1156 - val_accuracy: 0.9606\n",
      "Epoch 29/10000\n",
      "102033/102033 [==============================] - 3s 28us/sample - loss: 0.0361 - accuracy: 0.9902 - val_loss: 0.1106 - val_accuracy: 0.9624\n",
      "Epoch 30/10000\n",
      "102033/102033 [==============================] - 3s 27us/sample - loss: 0.0347 - accuracy: 0.9907 - val_loss: 0.1129 - val_accuracy: 0.9603\n",
      "Epoch 31/10000\n",
      "102033/102033 [==============================] - 3s 28us/sample - loss: 0.0336 - accuracy: 0.9908 - val_loss: 0.1094 - val_accuracy: 0.9637\n",
      "Epoch 32/10000\n",
      "102033/102033 [==============================] - 2s 24us/sample - loss: 0.0323 - accuracy: 0.9913 - val_loss: 0.1066 - val_accuracy: 0.9623\n",
      "Epoch 33/10000\n",
      "102033/102033 [==============================] - 3s 26us/sample - loss: 0.0312 - accuracy: 0.9916 - val_loss: 0.1095 - val_accuracy: 0.9615\n",
      "Epoch 34/10000\n",
      "102033/102033 [==============================] - 3s 25us/sample - loss: 0.0303 - accuracy: 0.9917 - val_loss: 0.1080 - val_accuracy: 0.9635\n",
      "Epoch 35/10000\n",
      "102033/102033 [==============================] - 3s 26us/sample - loss: 0.0291 - accuracy: 0.9923 - val_loss: 0.1151 - val_accuracy: 0.9605\n",
      "Epoch 36/10000\n",
      "102033/102033 [==============================] - 3s 26us/sample - loss: 0.0282 - accuracy: 0.9925 - val_loss: 0.1037 - val_accuracy: 0.9654\n",
      "Epoch 37/10000\n",
      "102033/102033 [==============================] - 2s 24us/sample - loss: 0.0273 - accuracy: 0.9926 - val_loss: 0.1057 - val_accuracy: 0.9652\n",
      "Epoch 38/10000\n",
      "102033/102033 [==============================] - 2s 24us/sample - loss: 0.0264 - accuracy: 0.9929 - val_loss: 0.1058 - val_accuracy: 0.9658\n",
      "Epoch 39/10000\n",
      "102033/102033 [==============================] - 3s 25us/sample - loss: 0.0256 - accuracy: 0.9933 - val_loss: 0.1094 - val_accuracy: 0.9634\n",
      "Epoch 40/10000\n",
      "102033/102033 [==============================] - 3s 25us/sample - loss: 0.0247 - accuracy: 0.9933 - val_loss: 0.1091 - val_accuracy: 0.9633\n",
      "Epoch 41/10000\n",
      "102033/102033 [==============================] - 3s 25us/sample - loss: 0.0240 - accuracy: 0.9937 - val_loss: 0.1057 - val_accuracy: 0.9636\n",
      "Epoch 42/10000\n",
      "102033/102033 [==============================] - 3s 25us/sample - loss: 0.0233 - accuracy: 0.9939 - val_loss: 0.1009 - val_accuracy: 0.9667\n",
      "Epoch 43/10000\n",
      "102033/102033 [==============================] - 3s 25us/sample - loss: 0.0227 - accuracy: 0.9941 - val_loss: 0.1080 - val_accuracy: 0.9643\n",
      "Epoch 44/10000\n",
      "102033/102033 [==============================] - 3s 25us/sample - loss: 0.0220 - accuracy: 0.9944 - val_loss: 0.1037 - val_accuracy: 0.9673\n",
      "Epoch 45/10000\n",
      "102033/102033 [==============================] - 3s 25us/sample - loss: 0.0213 - accuracy: 0.9945 - val_loss: 0.0991 - val_accuracy: 0.9687\n",
      "Epoch 46/10000\n",
      "102033/102033 [==============================] - 3s 25us/sample - loss: 0.0207 - accuracy: 0.9946 - val_loss: 0.1086 - val_accuracy: 0.9652\n",
      "Epoch 47/10000\n",
      "102033/102033 [==============================] - 2s 24us/sample - loss: 0.0202 - accuracy: 0.9948 - val_loss: 0.1034 - val_accuracy: 0.9675\n",
      "Epoch 48/10000\n",
      "102033/102033 [==============================] - 2s 24us/sample - loss: 0.0196 - accuracy: 0.9950 - val_loss: 0.1061 - val_accuracy: 0.9681\n",
      "Epoch 49/10000\n",
      "102033/102033 [==============================] - 3s 25us/sample - loss: 0.0192 - accuracy: 0.9949 - val_loss: 0.1009 - val_accuracy: 0.9687\n",
      "Epoch 50/10000\n",
      "102033/102033 [==============================] - 3s 25us/sample - loss: 0.0185 - accuracy: 0.9953 - val_loss: 0.1098 - val_accuracy: 0.9643\n",
      "Epoch 51/10000\n",
      "102033/102033 [==============================] - 3s 26us/sample - loss: 0.0181 - accuracy: 0.9954 - val_loss: 0.1024 - val_accuracy: 0.9681\n",
      "Epoch 52/10000\n",
      "102033/102033 [==============================] - 3s 25us/sample - loss: 0.0177 - accuracy: 0.9955 - val_loss: 0.1015 - val_accuracy: 0.9664\n",
      "Epoch 53/10000\n"
     ]
    },
    {
     "name": "stdout",
     "output_type": "stream",
     "text": [
      "102033/102033 [==============================] - 2s 24us/sample - loss: 0.0171 - accuracy: 0.9957 - val_loss: 0.1083 - val_accuracy: 0.9665\n",
      "Epoch 54/10000\n",
      "102033/102033 [==============================] - 2s 24us/sample - loss: 0.0167 - accuracy: 0.9958 - val_loss: 0.0992 - val_accuracy: 0.9682\n",
      "Epoch 55/10000\n",
      "102033/102033 [==============================] - 3s 25us/sample - loss: 0.0164 - accuracy: 0.9959 - val_loss: 0.0981 - val_accuracy: 0.9694\n",
      "Epoch 56/10000\n",
      "102033/102033 [==============================] - 3s 25us/sample - loss: 0.0161 - accuracy: 0.9961 - val_loss: 0.1055 - val_accuracy: 0.9671\n",
      "Epoch 57/10000\n",
      "102033/102033 [==============================] - 3s 25us/sample - loss: 0.0155 - accuracy: 0.9960 - val_loss: 0.1000 - val_accuracy: 0.9690\n",
      "Epoch 58/10000\n",
      "102033/102033 [==============================] - 3s 27us/sample - loss: 0.0150 - accuracy: 0.9964 - val_loss: 0.1056 - val_accuracy: 0.9662\n",
      "Epoch 59/10000\n",
      "102033/102033 [==============================] - 3s 27us/sample - loss: 0.0148 - accuracy: 0.9962 - val_loss: 0.1036 - val_accuracy: 0.9676\n",
      "Epoch 60/10000\n",
      "102033/102033 [==============================] - 3s 26us/sample - loss: 0.0144 - accuracy: 0.9964 - val_loss: 0.1026 - val_accuracy: 0.9677\n",
      "Epoch 61/10000\n",
      "102033/102033 [==============================] - 3s 25us/sample - loss: 0.0139 - accuracy: 0.9965 - val_loss: 0.0994 - val_accuracy: 0.9680\n",
      "Epoch 62/10000\n",
      "102033/102033 [==============================] - 3s 27us/sample - loss: 0.0137 - accuracy: 0.9966 - val_loss: 0.1028 - val_accuracy: 0.9691\n",
      "Epoch 63/10000\n",
      "102033/102033 [==============================] - 3s 29us/sample - loss: 0.0134 - accuracy: 0.9968 - val_loss: 0.0995 - val_accuracy: 0.9677\n",
      "Epoch 64/10000\n",
      "102033/102033 [==============================] - 3s 30us/sample - loss: 0.0130 - accuracy: 0.9969 - val_loss: 0.1026 - val_accuracy: 0.9676\n",
      "Epoch 65/10000\n",
      "102033/102033 [==============================] - 6s 57us/sample - loss: 0.0127 - accuracy: 0.9967 - val_loss: 0.1059 - val_accuracy: 0.9672\n",
      "Epoch 66/10000\n",
      "102033/102033 [==============================] - 6s 63us/sample - loss: 0.0124 - accuracy: 0.9970 - val_loss: 0.1043 - val_accuracy: 0.9660\n",
      "Epoch 67/10000\n",
      "102033/102033 [==============================] - 6s 55us/sample - loss: 0.0122 - accuracy: 0.9970 - val_loss: 0.1090 - val_accuracy: 0.9635\n",
      "Epoch 68/10000\n",
      "102033/102033 [==============================] - 4s 37us/sample - loss: 0.0119 - accuracy: 0.9972 - val_loss: 0.1031 - val_accuracy: 0.9683\n",
      "Epoch 69/10000\n",
      "102033/102033 [==============================] - 3s 30us/sample - loss: 0.0116 - accuracy: 0.9972 - val_loss: 0.1139 - val_accuracy: 0.9646\n",
      "Epoch 70/10000\n",
      "102033/102033 [==============================] - 3s 28us/sample - loss: 0.0114 - accuracy: 0.9972 - val_loss: 0.1085 - val_accuracy: 0.9667\n",
      "Epoch 71/10000\n",
      "102033/102033 [==============================] - 4s 39us/sample - loss: 0.0111 - accuracy: 0.9974 - val_loss: 0.1004 - val_accuracy: 0.9697\n",
      "Epoch 72/10000\n",
      "102033/102033 [==============================] - 4s 41us/sample - loss: 0.0110 - accuracy: 0.9973 - val_loss: 0.1031 - val_accuracy: 0.9682\n",
      "Epoch 73/10000\n",
      "102033/102033 [==============================] - 4s 41us/sample - loss: 0.0107 - accuracy: 0.9974 - val_loss: 0.1151 - val_accuracy: 0.9642\n",
      "Epoch 74/10000\n",
      "102033/102033 [==============================] - 4s 40us/sample - loss: 0.0104 - accuracy: 0.9977 - val_loss: 0.1035 - val_accuracy: 0.9685\n",
      "Epoch 75/10000\n",
      "102033/102033 [==============================] - 4s 40us/sample - loss: 0.0102 - accuracy: 0.9976 - val_loss: 0.1009 - val_accuracy: 0.9682\n"
     ]
    }
   ],
   "source": [
    "history = model.fit(X_train, y_train, validation_data=(X_validation, y_validation), epochs=epochs, batch_size=batch_size, callbacks=callbacks)"
   ]
  },
  {
   "cell_type": "code",
   "execution_count": 21,
   "metadata": {},
   "outputs": [
    {
     "data": {
      "image/png": "[encoded data removed]",
      "text/plain": [
       "<Figure size 432x288 with 1 Axes>"
      ]
     },
     "metadata": {},
     "output_type": "display_data"
    },
    {
     "data": {
      "image/png": "[encoded data removed]",
      "text/plain": [
       "<Figure size 432x288 with 1 Axes>"
      ]
     },
     "metadata": {},
     "output_type": "display_data"
    }
   ],
   "source": [
    "plt.figure()\n",
    "plotter = tfdocs.plots.HistoryPlotter(smoothing_std=2)\n",
    "plotter.plot({\"\": history}, metric = \"accuracy\")\n",
    "plt.ylim([0, 1])\n",
    "plt.ylabel('Accuracy')\n",
    "\n",
    "plt.figure()\n",
    "plotter.plot({\"\": history}, metric = \"loss\")\n",
    "plt.ylim([0, 1])\n",
    "plt.ylabel('Loss')\n",
    "\n",
    "plt.show()"
   ]
  },
  {
   "cell_type": "markdown",
   "metadata": {},
   "source": [
    "## Model Validation"
   ]
  },
  {
   "cell_type": "code",
   "execution_count": 22,
   "metadata": {},
   "outputs": [],
   "source": [
    "def inv_scale(y):\n",
    "    ret_y = np.copy(y)\n",
    "    ret_y[:, 0] = ret_y[:, 0] * 33.5\n",
    "    ret_y[:, 1] = ret_y[:, 1] * 16.8\n",
    "    return ret_y\n",
    "\n",
    "def average_distance_error(preds, y_test, scaled=False):\n",
    "    if scaled:\n",
    "        preds = inv_scale(preds)\n",
    "        y_test = inv_scale(y_test)\n",
    "    return np.mean(np.sqrt(np.sum(np.square(preds - y_test), axis=1)))"
   ]
  },
  {
   "cell_type": "code",
   "execution_count": 23,
   "metadata": {},
   "outputs": [],
   "source": [
    "def cdf(preds, y_test, test_data=False):\n",
    "    cpin = test_pin if test_data else pin\n",
    "    plt.figure(figsize=(5, 5))\n",
    "    for loc in cpin.keys():\n",
    "        x_selector = np.isclose(y_test[:, 0], cpin[loc]['X'], atol=0.01)\n",
    "        y_selector = np.isclose(y_test[:, 1], cpin[loc]['Y'], atol=0.01)\n",
    "        selector = np.logical_and(x_selector, y_selector)\n",
    "        selector = selector.reshape(-1)\n",
    "        Z = np.sqrt(np.sum(np.square(preds[selector] - y_test[selector]), axis=1))\n",
    "        N = Z.size\n",
    "\n",
    "        X = np.sort(Z)\n",
    "        F = np.array(range(N)) / float(N)\n",
    "\n",
    "        plt.plot(X, F, label=loc)\n",
    "    plt.title('CDF of Euclidean Distance Error')\n",
    "    plt.xlabel('Euclidean Distance Error (m)')\n",
    "    plt.ylabel('Density')\n",
    "    plt.legend(loc='center left', bbox_to_anchor=(1, 0.5))\n",
    "    plt.show()"
   ]
  },
  {
   "cell_type": "code",
   "execution_count": 24,
   "metadata": {
    "scrolled": false
   },
   "outputs": [
    {
     "name": "stdout",
     "output_type": "stream",
     "text": [
      "11337/1 - 0s - loss: 0.0505 - accuracy: 0.9682\n",
      "Validation loss: 0.10093494350607252\n",
      "Mean absolute error: 0.96815735\n"
     ]
    },
    {
     "ename": "IndexError",
     "evalue": "list index out of range",
     "output_type": "error",
     "traceback": [
      "\u001b[0;31m---------------------------------------------------------------------------\u001b[0m",
      "\u001b[0;31mIndexError\u001b[0m                                Traceback (most recent call last)",
      "\u001b[0;32m<ipython-input-24-728ae7ea5965>\u001b[0m in \u001b[0;36m<module>\u001b[0;34m\u001b[0m\n\u001b[1;32m      2\u001b[0m \u001b[0mprint\u001b[0m\u001b[0;34m(\u001b[0m\u001b[0;34m\"Validation loss:\"\u001b[0m\u001b[0;34m,\u001b[0m \u001b[0mvalidation_scores\u001b[0m\u001b[0;34m[\u001b[0m\u001b[0;36m0\u001b[0m\u001b[0;34m]\u001b[0m\u001b[0;34m)\u001b[0m\u001b[0;34m\u001b[0m\u001b[0;34m\u001b[0m\u001b[0m\n\u001b[1;32m      3\u001b[0m \u001b[0mprint\u001b[0m\u001b[0;34m(\u001b[0m\u001b[0;34m\"Mean absolute error:\"\u001b[0m\u001b[0;34m,\u001b[0m \u001b[0mvalidation_scores\u001b[0m\u001b[0;34m[\u001b[0m\u001b[0;36m1\u001b[0m\u001b[0;34m]\u001b[0m\u001b[0;34m)\u001b[0m\u001b[0;34m\u001b[0m\u001b[0;34m\u001b[0m\u001b[0m\n\u001b[0;32m----> 4\u001b[0;31m \u001b[0mprint\u001b[0m\u001b[0;34m(\u001b[0m\u001b[0;34m\"Mean squared error:\"\u001b[0m\u001b[0;34m,\u001b[0m \u001b[0mvalidation_scores\u001b[0m\u001b[0;34m[\u001b[0m\u001b[0;36m2\u001b[0m\u001b[0;34m]\u001b[0m\u001b[0;34m)\u001b[0m\u001b[0;34m\u001b[0m\u001b[0;34m\u001b[0m\u001b[0m\n\u001b[0m\u001b[1;32m      5\u001b[0m \u001b[0;34m\u001b[0m\u001b[0m\n\u001b[1;32m      6\u001b[0m \u001b[0mpreds\u001b[0m \u001b[0;34m=\u001b[0m \u001b[0mmodel\u001b[0m\u001b[0;34m.\u001b[0m\u001b[0mpredict\u001b[0m\u001b[0;34m(\u001b[0m\u001b[0mX_validation\u001b[0m\u001b[0;34m)\u001b[0m\u001b[0;34m\u001b[0m\u001b[0;34m\u001b[0m\u001b[0m\n",
      "\u001b[0;31mIndexError\u001b[0m: list index out of range"
     ]
    }
   ],
   "source": [
    "validation_scores = model.evaluate(X_validation, y_validation, verbose=2)\n",
    "print(\"Validation loss:\", validation_scores[0])\n",
    "print(\"Mean absolute error:\", validation_scores[1])\n",
    "print(\"Mean squared error:\", validation_scores[2])\n",
    "\n",
    "preds = model.predict(X_validation)\n",
    "print(\"Average distance error:\", average_distance_error(preds, y_validation))\n",
    "\n",
    "fig = plt.figure(figsize=(10, 20))\n",
    "lims = [0, 40]\n",
    "ax1 = fig.add_subplot(121, aspect='equal', title='X', xlim=lims, ylim=lims, xlabel='True Values', ylabel='Predictions')\n",
    "ax1.scatter(y_validation[:, 0], preds[:, 0], alpha=0.1)\n",
    "ax1.plot(lims, lims)\n",
    "\n",
    "fig = plt.figure(figsize=(10, 20))\n",
    "lims = [0, 20]\n",
    "ax1 = fig.add_subplot(121, aspect='equal', title='Y', xlim=lims, ylim=lims, xlabel='True Values', ylabel='Predictions')\n",
    "ax1.scatter(y_validation[:, 1], preds[:, 1], alpha=0.1)\n",
    "ax1.plot(lims, lims)\n",
    "\n",
    "plt.show()"
   ]
  },
  {
   "cell_type": "code",
   "execution_count": null,
   "metadata": {},
   "outputs": [],
   "source": [
    "cdf(preds, y_validation)"
   ]
  },
  {
   "cell_type": "markdown",
   "metadata": {},
   "source": [
    "## Model Testing"
   ]
  },
  {
   "cell_type": "code",
   "execution_count": null,
   "metadata": {},
   "outputs": [],
   "source": [
    "test_scores = model.evaluate(X_test, y_test, verbose=2)\n",
    "print(\"Test loss:\", test_scores[0])\n",
    "print(\"Mean absolute error:\", test_scores[1])\n",
    "print(\"Mean squared error:\", test_scores[2])\n",
    "\n",
    "preds = model.predict(X_test)\n",
    "print(\"Average distance error:\", average_distance_error(preds, y_test))\n",
    "\n",
    "fig = plt.figure(figsize=(10, 20))\n",
    "lims = [0, 40]\n",
    "ax1 = fig.add_subplot(121, aspect='equal', title='X', xlim=lims, ylim=lims, xlabel='True Values', ylabel='Predictions')\n",
    "ax1.scatter(y_test[:, 0], preds[:, 0], alpha=0.1)\n",
    "ax1.plot(lims, lims)\n",
    "\n",
    "fig = plt.figure(figsize=(10, 20))\n",
    "lims = [0, 20]\n",
    "ax1 = fig.add_subplot(121, aspect='equal', title='Y', xlim=lims, ylim=lims, xlabel='True Values', ylabel='Predictions')\n",
    "\n",
    "ax1.scatter(y_test[:, 1], preds[:, 1], alpha=0.1)\n",
    "ax1.plot(lims, lims)\n",
    "\n",
    "plt.show()"
   ]
  },
  {
   "cell_type": "code",
   "execution_count": null,
   "metadata": {
    "scrolled": false
   },
   "outputs": [],
   "source": [
    "cdf(preds, y_test, test_data=True)"
   ]
  },
  {
   "cell_type": "code",
   "execution_count": null,
   "metadata": {},
   "outputs": [],
   "source": [
    "img =  mpimg.imread('../Map/main.png')\n",
    "fingerprint_color = \"r\"\n",
    "testdata_color = \"b\"\n",
    "plt.figure(figsize=(40,40))\n",
    "plt.imshow(img)\n",
    "\n",
    "labels = [\"V1_23\", \"V1_24\", \"V1_32\", \"V1_22\", \"V1_14\", \"V1_13\", \"V1_12\", \"V1_21\", \"V1_29\", \"V1_30\", \"V1_31\", \"V1_11\", \"V1_20\", \"V1_28\", \"V1_10\", \"V1_19\", \"V1_27\", \"V1_9\", \"V1_8\", \"V1_18\", \"V1_26\"]\n",
    "x = [27.151600, 29.594400, 29.689400, 23.153700, 23.169100, 20.171700, 17.173201, 18.712299, 18.691700, 23.244200, 27.133301, 14.063600, 14.159800, 14.250300, 11.176600, 10.162500, 10.141900, 8.178670, 5.180690, 6.164600, 6.255650]\n",
    "y = [8.159480, 8.172020, 11.286000, 8.250140, 5.247920, 5.121330, 5.217130, 8.227330, 12.230300, 12.253700, 11.717700, 5.312350, 8.203950, 12.207500, 5.297530, 8.183420, 12.186400, 5.282130, 5.266730, 8.274090, 12.166400]\n",
    "x = np.array(x) * 44\n",
    "y = np.array(y) * 44\n",
    "\n",
    "testLabels = [\"T1_1\", \"T1_2\", \"T1_3\", \"T1_4\", \"T1_5\", \"T1_6\", \"T1_7\", \"T1_8\", \"T1_9\", \"T1_10\", \"T1_11\", \"T1_12\", \"T1_13\", \"T1_14\", \"T1_15\", \"T1_16\"]\n",
    "testX = [29.934250, 25.877805, 25.372470, 23.355726, 23.333564, 21.316819, 18.790348, 18.790348, 14.779021, 14.779021, 12.717952, 10.191480, 9.703916, 5.648265, 5.626103, 8.174736]\n",
    "testY = [9.659024, 7.630801, 12.155781, 10.139037, 6.593112, 12.177943, 10.094712, 5.573659, 4.554205, 9.673634, 12.155781, 9.629310, 6.105547, 6.570950, 10.139037, 12.177943]\n",
    "testX = np.array(testX) * 44\n",
    "testY = np.array(testY) * 44\n",
    "\n",
    "# plt.scatter(x, y, s=400, c=fingerprint_color, edgecolors=\"black\", linewidths=3)\n",
    "plt.scatter(testX, testY, s=400, c=testdata_color, edgecolors=\"black\", linewidths=3)\n",
    "\n",
    "# for i in range(len(labels)):\n",
    "#     plt.annotate(labels[i], (x[i], y[i] - 10), fontsize=20, color=fingerprint_color, weight='bold')\n",
    "\n",
    "for j in range(len(testLabels)):\n",
    "    plt.annotate(testLabels[j], (testX[j], testY[j] - 10), fontsize=20, color=testdata_color, weight='bold')\n",
    "\n",
    "for i in range(len(testLabels)):\n",
    "    loc = testLabels[i]\n",
    "    test_loc = test_imputed[test_imputed['location'] == loc]\n",
    "    X_loc = test_loc[scanners].values\n",
    "    locs = model.predict(X_loc) * 44\n",
    "    plt.scatter(locs[:, 0], locs[:, 1], alpha=0.2, label=testLabels[i])\n",
    "plt.legend()"
   ]
  },
  {
   "cell_type": "code",
   "execution_count": null,
   "metadata": {},
   "outputs": [],
   "source": []
  }
 ],
 "metadata": {
  "kernelspec": {
   "display_name": "Python 3",
   "language": "python",
   "name": "python3"
  },
  "language_info": {
   "codemirror_mode": {
    "name": "ipython",
    "version": 3
   },
   "file_extension": ".py",
   "mimetype": "text/x-python",
   "name": "python",
   "nbconvert_exporter": "python",
   "pygments_lexer": "ipython3",
   "version": "3.7.5"
  }
 },
 "nbformat": 4,
 "nbformat_minor": 2
}
