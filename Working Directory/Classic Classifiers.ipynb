{
 "cells": [
  {
   "cell_type": "markdown",
   "metadata": {},
   "source": [
    "## Classic Classifiers"
   ]
  },
  {
   "cell_type": "code",
   "execution_count": 1,
   "metadata": {},
   "outputs": [],
   "source": [
    "from sklearn.neighbors.classification import KNeighborsClassifier\n",
    "from sklearn.ensemble.gradient_boosting import GradientBoostingClassifier\n",
    "from sklearn.ensemble.bagging import BaggingClassifier\n",
    "from sklearn.ensemble.forest import ExtraTreesClassifier\n",
    "from sklearn.ensemble.forest import RandomForestClassifier\n",
    "from sklearn.svm import SVC\n",
    "from sklearn.svm import NuSVC\n",
    "\n",
    "from sklearn.model_selection import GridSearchCV"
   ]
  },
  {
   "cell_type": "code",
   "execution_count": 2,
   "metadata": {},
   "outputs": [],
   "source": [
    "from utilities import *\n",
    "from models import *\n",
    "\n",
    "from sklearn.preprocessing import LabelEncoder\n",
    "import joblib"
   ]
  },
  {
   "cell_type": "code",
   "execution_count": 3,
   "metadata": {},
   "outputs": [],
   "source": [
    "pin_file = \"../Data/pin.csv\"\n",
    "\n",
    "pin = read_pin(pin_file)"
   ]
  },
  {
   "cell_type": "code",
   "execution_count": 4,
   "metadata": {},
   "outputs": [
    {
     "name": "stdout",
     "output_type": "stream",
     "text": [
      "All beacons: ['0117C55D14E4']\n",
      "Selecting 0117C55D14E4\n"
     ]
    }
   ],
   "source": [
    "filename = \"../Data/rssi4.csv\"\n",
    "B1 = \"0117C55D14E4\"\n",
    "\n",
    "data = read_data(filename, B1)"
   ]
  },
  {
   "cell_type": "code",
   "execution_count": 5,
   "metadata": {},
   "outputs": [],
   "source": [
    "data[scanners] = minMaxScaling(data[scanners])"
   ]
  },
  {
   "cell_type": "markdown",
   "metadata": {},
   "source": [
    "## Train Validation Test Split"
   ]
  },
  {
   "cell_type": "code",
   "execution_count": 6,
   "metadata": {},
   "outputs": [],
   "source": [
    "train, validation, test = train_validation_test_split(data)"
   ]
  },
  {
   "cell_type": "code",
   "execution_count": 7,
   "metadata": {},
   "outputs": [
    {
     "data": {
      "text/html": [
       "<div>\n",
       "<style scoped>\n",
       "    .dataframe tbody tr th:only-of-type {\n",
       "        vertical-align: middle;\n",
       "    }\n",
       "\n",
       "    .dataframe tbody tr th {\n",
       "        vertical-align: top;\n",
       "    }\n",
       "\n",
       "    .dataframe thead th {\n",
       "        text-align: right;\n",
       "    }\n",
       "</style>\n",
       "<table border=\"1\" class=\"dataframe\">\n",
       "  <thead>\n",
       "    <tr style=\"text-align: right;\">\n",
       "      <th></th>\n",
       "      <th>C400A2E19293</th>\n",
       "      <th>CD4533FFC0E1</th>\n",
       "      <th>D2B6503554D7</th>\n",
       "      <th>DB8B36A69C56</th>\n",
       "      <th>DD697EA75B68</th>\n",
       "      <th>DF231643E227</th>\n",
       "      <th>E13B805C6CB0</th>\n",
       "      <th>E43355CA8B96</th>\n",
       "      <th>E6D9D20DD197</th>\n",
       "      <th>E8FD0B453DC4</th>\n",
       "      <th>E96AF2C858BA</th>\n",
       "      <th>EC72840D9AD3</th>\n",
       "      <th>F1307ECB3B90</th>\n",
       "      <th>F1EDAF28E08A</th>\n",
       "      <th>F69A86823B96</th>\n",
       "      <th>FB2EE01C18CE</th>\n",
       "      <th>FDAE5980F28C</th>\n",
       "    </tr>\n",
       "    <tr>\n",
       "      <th>location</th>\n",
       "      <th></th>\n",
       "      <th></th>\n",
       "      <th></th>\n",
       "      <th></th>\n",
       "      <th></th>\n",
       "      <th></th>\n",
       "      <th></th>\n",
       "      <th></th>\n",
       "      <th></th>\n",
       "      <th></th>\n",
       "      <th></th>\n",
       "      <th></th>\n",
       "      <th></th>\n",
       "      <th></th>\n",
       "      <th></th>\n",
       "      <th></th>\n",
       "      <th></th>\n",
       "    </tr>\n",
       "  </thead>\n",
       "  <tbody>\n",
       "    <tr>\n",
       "      <th>V1_11</th>\n",
       "      <td>55</td>\n",
       "      <td>71</td>\n",
       "      <td>68</td>\n",
       "      <td>96</td>\n",
       "      <td>126</td>\n",
       "      <td>82</td>\n",
       "      <td>60</td>\n",
       "      <td>105</td>\n",
       "      <td>120</td>\n",
       "      <td>49</td>\n",
       "      <td>48</td>\n",
       "      <td>130</td>\n",
       "      <td>129</td>\n",
       "      <td>27</td>\n",
       "      <td>45</td>\n",
       "      <td>20</td>\n",
       "      <td>84</td>\n",
       "    </tr>\n",
       "    <tr>\n",
       "      <th>V1_12</th>\n",
       "      <td>67</td>\n",
       "      <td>76</td>\n",
       "      <td>43</td>\n",
       "      <td>84</td>\n",
       "      <td>79</td>\n",
       "      <td>76</td>\n",
       "      <td>56</td>\n",
       "      <td>58</td>\n",
       "      <td>153</td>\n",
       "      <td>51</td>\n",
       "      <td>74</td>\n",
       "      <td>151</td>\n",
       "      <td>126</td>\n",
       "      <td>79</td>\n",
       "      <td>106</td>\n",
       "      <td>56</td>\n",
       "      <td>71</td>\n",
       "    </tr>\n",
       "    <tr>\n",
       "      <th>V1_13</th>\n",
       "      <td>60</td>\n",
       "      <td>141</td>\n",
       "      <td>47</td>\n",
       "      <td>111</td>\n",
       "      <td>42</td>\n",
       "      <td>86</td>\n",
       "      <td>101</td>\n",
       "      <td>111</td>\n",
       "      <td>229</td>\n",
       "      <td>13</td>\n",
       "      <td>33</td>\n",
       "      <td>107</td>\n",
       "      <td>80</td>\n",
       "      <td>92</td>\n",
       "      <td>150</td>\n",
       "      <td>14</td>\n",
       "      <td>63</td>\n",
       "    </tr>\n",
       "    <tr>\n",
       "      <th>V1_14</th>\n",
       "      <td>36</td>\n",
       "      <td>154</td>\n",
       "      <td>45</td>\n",
       "      <td>82</td>\n",
       "      <td>56</td>\n",
       "      <td>89</td>\n",
       "      <td>261</td>\n",
       "      <td>66</td>\n",
       "      <td>210</td>\n",
       "      <td>14</td>\n",
       "      <td>105</td>\n",
       "      <td>50</td>\n",
       "      <td>78</td>\n",
       "      <td>83</td>\n",
       "      <td>164</td>\n",
       "      <td>63</td>\n",
       "      <td>86</td>\n",
       "    </tr>\n",
       "    <tr>\n",
       "      <th>V1_20</th>\n",
       "      <td>105</td>\n",
       "      <td>92</td>\n",
       "      <td>94</td>\n",
       "      <td>77</td>\n",
       "      <td>124</td>\n",
       "      <td>98</td>\n",
       "      <td>61</td>\n",
       "      <td>82</td>\n",
       "      <td>72</td>\n",
       "      <td>31</td>\n",
       "      <td>72</td>\n",
       "      <td>90</td>\n",
       "      <td>169</td>\n",
       "      <td>15</td>\n",
       "      <td>74</td>\n",
       "      <td>23</td>\n",
       "      <td>69</td>\n",
       "    </tr>\n",
       "    <tr>\n",
       "      <th>V1_21</th>\n",
       "      <td>64</td>\n",
       "      <td>132</td>\n",
       "      <td>78</td>\n",
       "      <td>72</td>\n",
       "      <td>90</td>\n",
       "      <td>90</td>\n",
       "      <td>120</td>\n",
       "      <td>52</td>\n",
       "      <td>132</td>\n",
       "      <td>17</td>\n",
       "      <td>86</td>\n",
       "      <td>93</td>\n",
       "      <td>78</td>\n",
       "      <td>64</td>\n",
       "      <td>85</td>\n",
       "      <td>70</td>\n",
       "      <td>62</td>\n",
       "    </tr>\n",
       "    <tr>\n",
       "      <th>V1_22</th>\n",
       "      <td>61</td>\n",
       "      <td>70</td>\n",
       "      <td>58</td>\n",
       "      <td>62</td>\n",
       "      <td>68</td>\n",
       "      <td>155</td>\n",
       "      <td>205</td>\n",
       "      <td>27</td>\n",
       "      <td>233</td>\n",
       "      <td>27</td>\n",
       "      <td>136</td>\n",
       "      <td>57</td>\n",
       "      <td>49</td>\n",
       "      <td>11</td>\n",
       "      <td>109</td>\n",
       "      <td>90</td>\n",
       "      <td>51</td>\n",
       "    </tr>\n",
       "    <tr>\n",
       "      <th>V1_23</th>\n",
       "      <td>57</td>\n",
       "      <td>86</td>\n",
       "      <td>53</td>\n",
       "      <td>47</td>\n",
       "      <td>35</td>\n",
       "      <td>202</td>\n",
       "      <td>123</td>\n",
       "      <td>46</td>\n",
       "      <td>290</td>\n",
       "      <td>31</td>\n",
       "      <td>194</td>\n",
       "      <td>58</td>\n",
       "      <td>79</td>\n",
       "      <td>9</td>\n",
       "      <td>107</td>\n",
       "      <td>116</td>\n",
       "      <td>61</td>\n",
       "    </tr>\n",
       "    <tr>\n",
       "      <th>V1_24</th>\n",
       "      <td>22</td>\n",
       "      <td>67</td>\n",
       "      <td>53</td>\n",
       "      <td>55</td>\n",
       "      <td>39</td>\n",
       "      <td>108</td>\n",
       "      <td>95</td>\n",
       "      <td>47</td>\n",
       "      <td>441</td>\n",
       "      <td>17</td>\n",
       "      <td>184</td>\n",
       "      <td>54</td>\n",
       "      <td>64</td>\n",
       "      <td>33</td>\n",
       "      <td>87</td>\n",
       "      <td>135</td>\n",
       "      <td>26</td>\n",
       "    </tr>\n",
       "    <tr>\n",
       "      <th>V1_28</th>\n",
       "      <td>99</td>\n",
       "      <td>96</td>\n",
       "      <td>93</td>\n",
       "      <td>52</td>\n",
       "      <td>109</td>\n",
       "      <td>75</td>\n",
       "      <td>96</td>\n",
       "      <td>63</td>\n",
       "      <td>108</td>\n",
       "      <td>70</td>\n",
       "      <td>46</td>\n",
       "      <td>67</td>\n",
       "      <td>57</td>\n",
       "      <td>97</td>\n",
       "      <td>86</td>\n",
       "      <td>27</td>\n",
       "      <td>64</td>\n",
       "    </tr>\n",
       "    <tr>\n",
       "      <th>V1_29</th>\n",
       "      <td>60</td>\n",
       "      <td>132</td>\n",
       "      <td>87</td>\n",
       "      <td>57</td>\n",
       "      <td>87</td>\n",
       "      <td>75</td>\n",
       "      <td>145</td>\n",
       "      <td>69</td>\n",
       "      <td>128</td>\n",
       "      <td>25</td>\n",
       "      <td>91</td>\n",
       "      <td>68</td>\n",
       "      <td>87</td>\n",
       "      <td>32</td>\n",
       "      <td>95</td>\n",
       "      <td>108</td>\n",
       "      <td>60</td>\n",
       "    </tr>\n",
       "    <tr>\n",
       "      <th>V1_30</th>\n",
       "      <td>34</td>\n",
       "      <td>84</td>\n",
       "      <td>68</td>\n",
       "      <td>27</td>\n",
       "      <td>52</td>\n",
       "      <td>216</td>\n",
       "      <td>182</td>\n",
       "      <td>28</td>\n",
       "      <td>166</td>\n",
       "      <td>17</td>\n",
       "      <td>95</td>\n",
       "      <td>47</td>\n",
       "      <td>46</td>\n",
       "      <td>12</td>\n",
       "      <td>76</td>\n",
       "      <td>122</td>\n",
       "      <td>63</td>\n",
       "    </tr>\n",
       "    <tr>\n",
       "      <th>V1_31</th>\n",
       "      <td>18</td>\n",
       "      <td>56</td>\n",
       "      <td>37</td>\n",
       "      <td>59</td>\n",
       "      <td>45</td>\n",
       "      <td>113</td>\n",
       "      <td>91</td>\n",
       "      <td>25</td>\n",
       "      <td>150</td>\n",
       "      <td>7</td>\n",
       "      <td>174</td>\n",
       "      <td>51</td>\n",
       "      <td>36</td>\n",
       "      <td>6</td>\n",
       "      <td>46</td>\n",
       "      <td>152</td>\n",
       "      <td>40</td>\n",
       "    </tr>\n",
       "    <tr>\n",
       "      <th>V1_32</th>\n",
       "      <td>30</td>\n",
       "      <td>82</td>\n",
       "      <td>64</td>\n",
       "      <td>66</td>\n",
       "      <td>65</td>\n",
       "      <td>129</td>\n",
       "      <td>126</td>\n",
       "      <td>41</td>\n",
       "      <td>311</td>\n",
       "      <td>21</td>\n",
       "      <td>199</td>\n",
       "      <td>62</td>\n",
       "      <td>38</td>\n",
       "      <td>18</td>\n",
       "      <td>68</td>\n",
       "      <td>138</td>\n",
       "      <td>93</td>\n",
       "    </tr>\n",
       "  </tbody>\n",
       "</table>\n",
       "</div>"
      ],
      "text/plain": [
       "          C400A2E19293  CD4533FFC0E1  D2B6503554D7  DB8B36A69C56  \\\n",
       "location                                                           \n",
       "V1_11               55            71            68            96   \n",
       "V1_12               67            76            43            84   \n",
       "V1_13               60           141            47           111   \n",
       "V1_14               36           154            45            82   \n",
       "V1_20              105            92            94            77   \n",
       "V1_21               64           132            78            72   \n",
       "V1_22               61            70            58            62   \n",
       "V1_23               57            86            53            47   \n",
       "V1_24               22            67            53            55   \n",
       "V1_28               99            96            93            52   \n",
       "V1_29               60           132            87            57   \n",
       "V1_30               34            84            68            27   \n",
       "V1_31               18            56            37            59   \n",
       "V1_32               30            82            64            66   \n",
       "\n",
       "          DD697EA75B68  DF231643E227  E13B805C6CB0  E43355CA8B96  \\\n",
       "location                                                           \n",
       "V1_11              126            82            60           105   \n",
       "V1_12               79            76            56            58   \n",
       "V1_13               42            86           101           111   \n",
       "V1_14               56            89           261            66   \n",
       "V1_20              124            98            61            82   \n",
       "V1_21               90            90           120            52   \n",
       "V1_22               68           155           205            27   \n",
       "V1_23               35           202           123            46   \n",
       "V1_24               39           108            95            47   \n",
       "V1_28              109            75            96            63   \n",
       "V1_29               87            75           145            69   \n",
       "V1_30               52           216           182            28   \n",
       "V1_31               45           113            91            25   \n",
       "V1_32               65           129           126            41   \n",
       "\n",
       "          E6D9D20DD197  E8FD0B453DC4  E96AF2C858BA  EC72840D9AD3  \\\n",
       "location                                                           \n",
       "V1_11              120            49            48           130   \n",
       "V1_12              153            51            74           151   \n",
       "V1_13              229            13            33           107   \n",
       "V1_14              210            14           105            50   \n",
       "V1_20               72            31            72            90   \n",
       "V1_21              132            17            86            93   \n",
       "V1_22              233            27           136            57   \n",
       "V1_23              290            31           194            58   \n",
       "V1_24              441            17           184            54   \n",
       "V1_28              108            70            46            67   \n",
       "V1_29              128            25            91            68   \n",
       "V1_30              166            17            95            47   \n",
       "V1_31              150             7           174            51   \n",
       "V1_32              311            21           199            62   \n",
       "\n",
       "          F1307ECB3B90  F1EDAF28E08A  F69A86823B96  FB2EE01C18CE  FDAE5980F28C  \n",
       "location                                                                        \n",
       "V1_11              129            27            45            20            84  \n",
       "V1_12              126            79           106            56            71  \n",
       "V1_13               80            92           150            14            63  \n",
       "V1_14               78            83           164            63            86  \n",
       "V1_20              169            15            74            23            69  \n",
       "V1_21               78            64            85            70            62  \n",
       "V1_22               49            11           109            90            51  \n",
       "V1_23               79             9           107           116            61  \n",
       "V1_24               64            33            87           135            26  \n",
       "V1_28               57            97            86            27            64  \n",
       "V1_29               87            32            95           108            60  \n",
       "V1_30               46            12            76           122            63  \n",
       "V1_31               36             6            46           152            40  \n",
       "V1_32               38            18            68           138            93  "
      ]
     },
     "execution_count": 7,
     "metadata": {},
     "output_type": "execute_result"
    }
   ],
   "source": [
    "train.groupby(\"location\")[scanners].count()"
   ]
  },
  {
   "cell_type": "code",
   "execution_count": 8,
   "metadata": {},
   "outputs": [
    {
     "data": {
      "text/plain": [
       "(6034, 19)"
      ]
     },
     "execution_count": 8,
     "metadata": {},
     "output_type": "execute_result"
    }
   ],
   "source": [
    "validation.shape"
   ]
  },
  {
   "cell_type": "code",
   "execution_count": 9,
   "metadata": {},
   "outputs": [
    {
     "data": {
      "text/plain": [
       "(6035, 19)"
      ]
     },
     "execution_count": 9,
     "metadata": {},
     "output_type": "execute_result"
    }
   ],
   "source": [
    "test.shape"
   ]
  },
  {
   "cell_type": "code",
   "execution_count": 10,
   "metadata": {},
   "outputs": [],
   "source": [
    "train.sort_values(\"time\", inplace=True)\n",
    "validation.sort_values(\"time\", inplace=True)\n",
    "test.sort_values(\"time\", inplace=True)"
   ]
  },
  {
   "cell_type": "code",
   "execution_count": 11,
   "metadata": {},
   "outputs": [],
   "source": [
    "train_rolled = train.groupby(\"location\").rolling(15, min_periods=1).mean().reset_index()\n",
    "validation_rolled = validation.groupby(\"location\").rolling(15, min_periods=1).mean().reset_index()\n",
    "test_rolled = test.groupby(\"location\").rolling(15, min_periods=1).mean().reset_index()"
   ]
  },
  {
   "cell_type": "code",
   "execution_count": 12,
   "metadata": {},
   "outputs": [
    {
     "data": {
      "text/html": [
       "<div>\n",
       "<style scoped>\n",
       "    .dataframe tbody tr th:only-of-type {\n",
       "        vertical-align: middle;\n",
       "    }\n",
       "\n",
       "    .dataframe tbody tr th {\n",
       "        vertical-align: top;\n",
       "    }\n",
       "\n",
       "    .dataframe thead th {\n",
       "        text-align: right;\n",
       "    }\n",
       "</style>\n",
       "<table border=\"1\" class=\"dataframe\">\n",
       "  <thead>\n",
       "    <tr style=\"text-align: right;\">\n",
       "      <th></th>\n",
       "      <th>location</th>\n",
       "      <th>level_1</th>\n",
       "      <th>C400A2E19293</th>\n",
       "      <th>CD4533FFC0E1</th>\n",
       "      <th>D2B6503554D7</th>\n",
       "      <th>DB8B36A69C56</th>\n",
       "      <th>DD697EA75B68</th>\n",
       "      <th>DF231643E227</th>\n",
       "      <th>E13B805C6CB0</th>\n",
       "      <th>E43355CA8B96</th>\n",
       "      <th>E6D9D20DD197</th>\n",
       "      <th>E8FD0B453DC4</th>\n",
       "      <th>E96AF2C858BA</th>\n",
       "      <th>EC72840D9AD3</th>\n",
       "      <th>F1307ECB3B90</th>\n",
       "      <th>F1EDAF28E08A</th>\n",
       "      <th>F69A86823B96</th>\n",
       "      <th>FB2EE01C18CE</th>\n",
       "      <th>FDAE5980F28C</th>\n",
       "    </tr>\n",
       "  </thead>\n",
       "  <tbody>\n",
       "    <tr>\n",
       "      <th>0</th>\n",
       "      <td>V1_11</td>\n",
       "      <td>24304</td>\n",
       "      <td>NaN</td>\n",
       "      <td>NaN</td>\n",
       "      <td>NaN</td>\n",
       "      <td>0.55</td>\n",
       "      <td>NaN</td>\n",
       "      <td>NaN</td>\n",
       "      <td>NaN</td>\n",
       "      <td>NaN</td>\n",
       "      <td>NaN</td>\n",
       "      <td>NaN</td>\n",
       "      <td>NaN</td>\n",
       "      <td>NaN</td>\n",
       "      <td>NaN</td>\n",
       "      <td>NaN</td>\n",
       "      <td>NaN</td>\n",
       "      <td>NaN</td>\n",
       "      <td>NaN</td>\n",
       "    </tr>\n",
       "    <tr>\n",
       "      <th>1</th>\n",
       "      <td>V1_11</td>\n",
       "      <td>24306</td>\n",
       "      <td>NaN</td>\n",
       "      <td>NaN</td>\n",
       "      <td>NaN</td>\n",
       "      <td>0.55</td>\n",
       "      <td>0.516667</td>\n",
       "      <td>NaN</td>\n",
       "      <td>NaN</td>\n",
       "      <td>NaN</td>\n",
       "      <td>NaN</td>\n",
       "      <td>NaN</td>\n",
       "      <td>NaN</td>\n",
       "      <td>NaN</td>\n",
       "      <td>NaN</td>\n",
       "      <td>NaN</td>\n",
       "      <td>NaN</td>\n",
       "      <td>NaN</td>\n",
       "      <td>NaN</td>\n",
       "    </tr>\n",
       "    <tr>\n",
       "      <th>2</th>\n",
       "      <td>V1_11</td>\n",
       "      <td>24307</td>\n",
       "      <td>NaN</td>\n",
       "      <td>NaN</td>\n",
       "      <td>NaN</td>\n",
       "      <td>0.55</td>\n",
       "      <td>0.516667</td>\n",
       "      <td>NaN</td>\n",
       "      <td>0.333333</td>\n",
       "      <td>NaN</td>\n",
       "      <td>NaN</td>\n",
       "      <td>NaN</td>\n",
       "      <td>NaN</td>\n",
       "      <td>NaN</td>\n",
       "      <td>NaN</td>\n",
       "      <td>NaN</td>\n",
       "      <td>NaN</td>\n",
       "      <td>NaN</td>\n",
       "      <td>NaN</td>\n",
       "    </tr>\n",
       "    <tr>\n",
       "      <th>3</th>\n",
       "      <td>V1_11</td>\n",
       "      <td>24308</td>\n",
       "      <td>NaN</td>\n",
       "      <td>0.333333</td>\n",
       "      <td>NaN</td>\n",
       "      <td>0.55</td>\n",
       "      <td>0.516667</td>\n",
       "      <td>NaN</td>\n",
       "      <td>0.333333</td>\n",
       "      <td>NaN</td>\n",
       "      <td>NaN</td>\n",
       "      <td>NaN</td>\n",
       "      <td>NaN</td>\n",
       "      <td>NaN</td>\n",
       "      <td>NaN</td>\n",
       "      <td>NaN</td>\n",
       "      <td>NaN</td>\n",
       "      <td>NaN</td>\n",
       "      <td>NaN</td>\n",
       "    </tr>\n",
       "    <tr>\n",
       "      <th>4</th>\n",
       "      <td>V1_11</td>\n",
       "      <td>24310</td>\n",
       "      <td>NaN</td>\n",
       "      <td>0.333333</td>\n",
       "      <td>NaN</td>\n",
       "      <td>0.55</td>\n",
       "      <td>0.516667</td>\n",
       "      <td>0.15</td>\n",
       "      <td>0.333333</td>\n",
       "      <td>NaN</td>\n",
       "      <td>NaN</td>\n",
       "      <td>NaN</td>\n",
       "      <td>0.100000</td>\n",
       "      <td>NaN</td>\n",
       "      <td>NaN</td>\n",
       "      <td>NaN</td>\n",
       "      <td>NaN</td>\n",
       "      <td>NaN</td>\n",
       "      <td>NaN</td>\n",
       "    </tr>\n",
       "    <tr>\n",
       "      <th>...</th>\n",
       "      <td>...</td>\n",
       "      <td>...</td>\n",
       "      <td>...</td>\n",
       "      <td>...</td>\n",
       "      <td>...</td>\n",
       "      <td>...</td>\n",
       "      <td>...</td>\n",
       "      <td>...</td>\n",
       "      <td>...</td>\n",
       "      <td>...</td>\n",
       "      <td>...</td>\n",
       "      <td>...</td>\n",
       "      <td>...</td>\n",
       "      <td>...</td>\n",
       "      <td>...</td>\n",
       "      <td>...</td>\n",
       "      <td>...</td>\n",
       "      <td>...</td>\n",
       "      <td>...</td>\n",
       "    </tr>\n",
       "    <tr>\n",
       "      <th>18097</th>\n",
       "      <td>V1_32</td>\n",
       "      <td>22547</td>\n",
       "      <td>0.183333</td>\n",
       "      <td>0.283333</td>\n",
       "      <td>0.333333</td>\n",
       "      <td>NaN</td>\n",
       "      <td>NaN</td>\n",
       "      <td>0.55</td>\n",
       "      <td>0.433333</td>\n",
       "      <td>NaN</td>\n",
       "      <td>0.516667</td>\n",
       "      <td>NaN</td>\n",
       "      <td>0.700000</td>\n",
       "      <td>0.25</td>\n",
       "      <td>NaN</td>\n",
       "      <td>NaN</td>\n",
       "      <td>0.258333</td>\n",
       "      <td>NaN</td>\n",
       "      <td>NaN</td>\n",
       "    </tr>\n",
       "    <tr>\n",
       "      <th>18098</th>\n",
       "      <td>V1_32</td>\n",
       "      <td>22549</td>\n",
       "      <td>0.183333</td>\n",
       "      <td>0.283333</td>\n",
       "      <td>0.333333</td>\n",
       "      <td>NaN</td>\n",
       "      <td>0.233333</td>\n",
       "      <td>0.55</td>\n",
       "      <td>0.433333</td>\n",
       "      <td>NaN</td>\n",
       "      <td>0.500000</td>\n",
       "      <td>NaN</td>\n",
       "      <td>0.700000</td>\n",
       "      <td>0.25</td>\n",
       "      <td>0.3</td>\n",
       "      <td>NaN</td>\n",
       "      <td>0.258333</td>\n",
       "      <td>NaN</td>\n",
       "      <td>NaN</td>\n",
       "    </tr>\n",
       "    <tr>\n",
       "      <th>18099</th>\n",
       "      <td>V1_32</td>\n",
       "      <td>22551</td>\n",
       "      <td>0.183333</td>\n",
       "      <td>0.283333</td>\n",
       "      <td>0.333333</td>\n",
       "      <td>NaN</td>\n",
       "      <td>0.233333</td>\n",
       "      <td>0.55</td>\n",
       "      <td>0.433333</td>\n",
       "      <td>NaN</td>\n",
       "      <td>0.505556</td>\n",
       "      <td>NaN</td>\n",
       "      <td>0.700000</td>\n",
       "      <td>NaN</td>\n",
       "      <td>0.3</td>\n",
       "      <td>NaN</td>\n",
       "      <td>0.258333</td>\n",
       "      <td>NaN</td>\n",
       "      <td>NaN</td>\n",
       "    </tr>\n",
       "    <tr>\n",
       "      <th>18100</th>\n",
       "      <td>V1_32</td>\n",
       "      <td>22552</td>\n",
       "      <td>0.183333</td>\n",
       "      <td>0.283333</td>\n",
       "      <td>0.333333</td>\n",
       "      <td>NaN</td>\n",
       "      <td>0.233333</td>\n",
       "      <td>NaN</td>\n",
       "      <td>0.433333</td>\n",
       "      <td>NaN</td>\n",
       "      <td>0.505556</td>\n",
       "      <td>NaN</td>\n",
       "      <td>0.679167</td>\n",
       "      <td>NaN</td>\n",
       "      <td>0.3</td>\n",
       "      <td>NaN</td>\n",
       "      <td>0.258333</td>\n",
       "      <td>NaN</td>\n",
       "      <td>NaN</td>\n",
       "    </tr>\n",
       "    <tr>\n",
       "      <th>18101</th>\n",
       "      <td>V1_32</td>\n",
       "      <td>22554</td>\n",
       "      <td>0.183333</td>\n",
       "      <td>0.283333</td>\n",
       "      <td>0.333333</td>\n",
       "      <td>NaN</td>\n",
       "      <td>0.233333</td>\n",
       "      <td>NaN</td>\n",
       "      <td>0.400000</td>\n",
       "      <td>NaN</td>\n",
       "      <td>0.516667</td>\n",
       "      <td>NaN</td>\n",
       "      <td>0.679167</td>\n",
       "      <td>NaN</td>\n",
       "      <td>0.3</td>\n",
       "      <td>NaN</td>\n",
       "      <td>0.258333</td>\n",
       "      <td>NaN</td>\n",
       "      <td>NaN</td>\n",
       "    </tr>\n",
       "  </tbody>\n",
       "</table>\n",
       "<p>18102 rows × 19 columns</p>\n",
       "</div>"
      ],
      "text/plain": [
       "      location  level_1  C400A2E19293  CD4533FFC0E1  D2B6503554D7  \\\n",
       "0        V1_11    24304           NaN           NaN           NaN   \n",
       "1        V1_11    24306           NaN           NaN           NaN   \n",
       "2        V1_11    24307           NaN           NaN           NaN   \n",
       "3        V1_11    24308           NaN      0.333333           NaN   \n",
       "4        V1_11    24310           NaN      0.333333           NaN   \n",
       "...        ...      ...           ...           ...           ...   \n",
       "18097    V1_32    22547      0.183333      0.283333      0.333333   \n",
       "18098    V1_32    22549      0.183333      0.283333      0.333333   \n",
       "18099    V1_32    22551      0.183333      0.283333      0.333333   \n",
       "18100    V1_32    22552      0.183333      0.283333      0.333333   \n",
       "18101    V1_32    22554      0.183333      0.283333      0.333333   \n",
       "\n",
       "       DB8B36A69C56  DD697EA75B68  DF231643E227  E13B805C6CB0  E43355CA8B96  \\\n",
       "0              0.55           NaN           NaN           NaN           NaN   \n",
       "1              0.55      0.516667           NaN           NaN           NaN   \n",
       "2              0.55      0.516667           NaN      0.333333           NaN   \n",
       "3              0.55      0.516667           NaN      0.333333           NaN   \n",
       "4              0.55      0.516667          0.15      0.333333           NaN   \n",
       "...             ...           ...           ...           ...           ...   \n",
       "18097           NaN           NaN          0.55      0.433333           NaN   \n",
       "18098           NaN      0.233333          0.55      0.433333           NaN   \n",
       "18099           NaN      0.233333          0.55      0.433333           NaN   \n",
       "18100           NaN      0.233333           NaN      0.433333           NaN   \n",
       "18101           NaN      0.233333           NaN      0.400000           NaN   \n",
       "\n",
       "       E6D9D20DD197  E8FD0B453DC4  E96AF2C858BA  EC72840D9AD3  F1307ECB3B90  \\\n",
       "0               NaN           NaN           NaN           NaN           NaN   \n",
       "1               NaN           NaN           NaN           NaN           NaN   \n",
       "2               NaN           NaN           NaN           NaN           NaN   \n",
       "3               NaN           NaN           NaN           NaN           NaN   \n",
       "4               NaN           NaN      0.100000           NaN           NaN   \n",
       "...             ...           ...           ...           ...           ...   \n",
       "18097      0.516667           NaN      0.700000          0.25           NaN   \n",
       "18098      0.500000           NaN      0.700000          0.25           0.3   \n",
       "18099      0.505556           NaN      0.700000           NaN           0.3   \n",
       "18100      0.505556           NaN      0.679167           NaN           0.3   \n",
       "18101      0.516667           NaN      0.679167           NaN           0.3   \n",
       "\n",
       "       F1EDAF28E08A  F69A86823B96  FB2EE01C18CE  FDAE5980F28C  \n",
       "0               NaN           NaN           NaN           NaN  \n",
       "1               NaN           NaN           NaN           NaN  \n",
       "2               NaN           NaN           NaN           NaN  \n",
       "3               NaN           NaN           NaN           NaN  \n",
       "4               NaN           NaN           NaN           NaN  \n",
       "...             ...           ...           ...           ...  \n",
       "18097           NaN      0.258333           NaN           NaN  \n",
       "18098           NaN      0.258333           NaN           NaN  \n",
       "18099           NaN      0.258333           NaN           NaN  \n",
       "18100           NaN      0.258333           NaN           NaN  \n",
       "18101           NaN      0.258333           NaN           NaN  \n",
       "\n",
       "[18102 rows x 19 columns]"
      ]
     },
     "execution_count": 12,
     "metadata": {},
     "output_type": "execute_result"
    }
   ],
   "source": [
    "train_rolled"
   ]
  },
  {
   "cell_type": "markdown",
   "metadata": {},
   "source": [
    "## Imputation\n",
    "1. Forward fill\n",
    "2. Fill NaN"
   ]
  },
  {
   "cell_type": "code",
   "execution_count": 13,
   "metadata": {},
   "outputs": [],
   "source": [
    "train_imputed = train.set_index(\"location\").groupby(\"location\").ffill()\n",
    "train_imputed.fillna(0, inplace=True)\n",
    "train_imputed.reset_index(inplace=True)"
   ]
  },
  {
   "cell_type": "code",
   "execution_count": 14,
   "metadata": {},
   "outputs": [],
   "source": [
    "validation_imputed = validation.set_index(\"location\").groupby(\"location\").ffill()\n",
    "validation_imputed.fillna(0, inplace=True)\n",
    "validation_imputed.reset_index(inplace=True)"
   ]
  },
  {
   "cell_type": "code",
   "execution_count": 15,
   "metadata": {},
   "outputs": [],
   "source": [
    "test_imputed = test.set_index(\"location\").groupby(\"location\").ffill()\n",
    "test_imputed.fillna(0, inplace=True)\n",
    "test_imputed.reset_index(inplace=True)"
   ]
  },
  {
   "cell_type": "markdown",
   "metadata": {},
   "source": [
    "## Create Label Encoding for Each Fingerprint Location"
   ]
  },
  {
   "cell_type": "code",
   "execution_count": 16,
   "metadata": {},
   "outputs": [],
   "source": [
    "X_train, y_train = train_imputed[scanners].values, train_imputed[\"location\"].values\n",
    "X_validation, y_validation = validation_imputed[scanners].values, validation_imputed[\"location\"].values\n",
    "X_test, y_test = test_imputed[scanners].values, test_imputed[\"location\"].values"
   ]
  },
  {
   "cell_type": "code",
   "execution_count": 17,
   "metadata": {},
   "outputs": [],
   "source": [
    "enc = LabelEncoder()\n",
    "\n",
    "y_train = enc.fit_transform(y_train)\n",
    "y_validation = enc.transform(y_validation)\n",
    "y_test = enc.transform(y_test)"
   ]
  },
  {
   "cell_type": "code",
   "execution_count": 18,
   "metadata": {},
   "outputs": [
    {
     "data": {
      "text/plain": [
       "(18102,)"
      ]
     },
     "execution_count": 18,
     "metadata": {},
     "output_type": "execute_result"
    }
   ],
   "source": [
    "y_train.shape"
   ]
  },
  {
   "cell_type": "code",
   "execution_count": 19,
   "metadata": {},
   "outputs": [
    {
     "data": {
      "text/plain": [
       "['../Models/MLP_Classification_Rolling_FFill_MinMax_Encoder.joblib']"
      ]
     },
     "execution_count": 19,
     "metadata": {},
     "output_type": "execute_result"
    }
   ],
   "source": [
    "joblib.dump(enc, \"../Models/MLP_Classification_Rolling_FFill_MinMax_Encoder.joblib\")"
   ]
  },
  {
   "cell_type": "markdown",
   "metadata": {},
   "source": [
    "## Model Training"
   ]
  },
  {
   "cell_type": "code",
   "execution_count": 20,
   "metadata": {},
   "outputs": [],
   "source": [
    "classifiers = [\n",
    "    KNeighborsClassifier(n_neighbors=10, p=1),\n",
    "    GradientBoostingClassifier(),\n",
    "    BaggingClassifier(),\n",
    "    ExtraTreesClassifier(n_estimators=50),\n",
    "    RandomForestClassifier(n_estimators=150),\n",
    "    SVC(C=10)\n",
    "]"
   ]
  },
  {
   "cell_type": "code",
   "execution_count": 21,
   "metadata": {
    "scrolled": false
   },
   "outputs": [
    {
     "name": "stdout",
     "output_type": "stream",
     "text": [
      "KNeighborsClassifier(algorithm='auto', leaf_size=30, metric='minkowski',\n",
      "                     metric_params=None, n_jobs=None, n_neighbors=10, p=1,\n",
      "                     weights='uniform') 0.967848856479947 0.9676884838442419\n",
      "GradientBoostingClassifier(criterion='friedman_mse', init=None,\n",
      "                           learning_rate=0.1, loss='deviance', max_depth=3,\n",
      "                           max_features=None, max_leaf_nodes=None,\n",
      "                           min_impurity_decrease=0.0, min_impurity_split=None,\n",
      "                           min_samples_leaf=1, min_samples_split=2,\n",
      "                           min_weight_fraction_leaf=0.0, n_estimators=100,\n",
      "                           n_iter_no_change=None, presort='auto',\n",
      "                           random_state=None, subsample=1.0, tol=0.0001,\n",
      "                           validation_fraction=0.1, verbose=0,\n",
      "                           warm_start=False) 0.964534305601591 0.9821043910521955\n",
      "BaggingClassifier(base_estimator=None, bootstrap=True, bootstrap_features=False,\n",
      "                  max_features=1.0, max_samples=1.0, n_estimators=10,\n",
      "                  n_jobs=None, oob_score=False, random_state=None, verbose=0,\n",
      "                  warm_start=False) 0.9405038117335102 0.9413421706710854\n",
      "ExtraTreesClassifier(bootstrap=False, class_weight=None, criterion='gini',\n",
      "                     max_depth=None, max_features='auto', max_leaf_nodes=None,\n",
      "                     min_impurity_decrease=0.0, min_impurity_split=None,\n",
      "                     min_samples_leaf=1, min_samples_split=2,\n",
      "                     min_weight_fraction_leaf=0.0, n_estimators=50, n_jobs=None,\n",
      "                     oob_score=False, random_state=None, verbose=0,\n",
      "                     warm_start=False) 0.9842558833278091 0.9774647887323944\n",
      "RandomForestClassifier(bootstrap=True, class_weight=None, criterion='gini',\n",
      "                       max_depth=None, max_features='auto', max_leaf_nodes=None,\n",
      "                       min_impurity_decrease=0.0, min_impurity_split=None,\n",
      "                       min_samples_leaf=1, min_samples_split=2,\n",
      "                       min_weight_fraction_leaf=0.0, n_estimators=150,\n",
      "                       n_jobs=None, oob_score=False, random_state=None,\n",
      "                       verbose=0, warm_start=False) 0.9763009612197547 0.9834299917149959\n"
     ]
    },
    {
     "name": "stderr",
     "output_type": "stream",
     "text": [
      "/home/mimos/anaconda3/envs/loc/lib/python3.7/site-packages/sklearn/svm/base.py:193: FutureWarning: The default value of gamma will change from 'auto' to 'scale' in version 0.22 to account better for unscaled features. Set gamma explicitly to 'auto' or 'scale' to avoid this warning.\n",
      "  \"avoid this warning.\", FutureWarning)\n"
     ]
    },
    {
     "name": "stdout",
     "output_type": "stream",
     "text": [
      "SVC(C=10, cache_size=200, class_weight=None, coef0=0.0,\n",
      "    decision_function_shape='ovr', degree=3, gamma='auto_deprecated',\n",
      "    kernel='rbf', max_iter=-1, probability=False, random_state=None,\n",
      "    shrinking=True, tol=0.001, verbose=False) 0.9353662578720583 0.9411764705882353\n"
     ]
    }
   ],
   "source": [
    "for clf in classifiers:\n",
    "    clf.fit(X_train, y_train)\n",
    "    print(clf, clf.score(X_validation, y_validation), clf.score(X_test, y_test))"
   ]
  },
  {
   "cell_type": "code",
   "execution_count": 22,
   "metadata": {},
   "outputs": [],
   "source": [
    "def run(clf):\n",
    "    clf.fit(X_train, y_train)\n",
    "    print(\"Validation score:\", clf.score(X_validation, y_validation))\n",
    "    print(\"Test score\", clf.score(X_test, y_test))"
   ]
  },
  {
   "cell_type": "code",
   "execution_count": 23,
   "metadata": {},
   "outputs": [
    {
     "name": "stdout",
     "output_type": "stream",
     "text": [
      "Fitting 5 folds for each of 18 candidates, totalling 90 fits\n"
     ]
    },
    {
     "name": "stderr",
     "output_type": "stream",
     "text": [
      "[Parallel(n_jobs=7)]: Using backend LokyBackend with 7 concurrent workers.\n",
      "[Parallel(n_jobs=7)]: Done   4 tasks      | elapsed:    1.4s\n",
      "[Parallel(n_jobs=7)]: Done  11 tasks      | elapsed:    1.9s\n",
      "[Parallel(n_jobs=7)]: Done  18 tasks      | elapsed:    2.3s\n",
      "[Parallel(n_jobs=7)]: Done  27 tasks      | elapsed:   10.2s\n",
      "[Parallel(n_jobs=7)]: Done  36 tasks      | elapsed:   11.9s\n",
      "[Parallel(n_jobs=7)]: Done  47 tasks      | elapsed:   13.4s\n",
      "[Parallel(n_jobs=7)]: Done  58 tasks      | elapsed:   23.5s\n",
      "[Parallel(n_jobs=7)]: Done  71 tasks      | elapsed:   26.0s\n",
      "[Parallel(n_jobs=7)]: Done  87 out of  90 | elapsed:   41.5s remaining:    1.4s\n",
      "[Parallel(n_jobs=7)]: Done  90 out of  90 | elapsed:   44.8s finished\n"
     ]
    },
    {
     "name": "stdout",
     "output_type": "stream",
     "text": [
      "Validation score: 0.967848856479947\n",
      "Test score 0.9676884838442419\n"
     ]
    }
   ],
   "source": [
    "parameters = {\n",
    "    'n_neighbors': [1, 5, 10],\n",
    "    'weights': ['uniform', 'distance'],\n",
    "    'p': [1, 2, 3]\n",
    "}\n",
    "\n",
    "clf = GridSearchCV(KNeighborsClassifier(), parameters, n_jobs=7, verbose=10, cv=5)\n",
    "run(clf)"
   ]
  },
  {
   "cell_type": "code",
   "execution_count": 24,
   "metadata": {},
   "outputs": [
    {
     "data": {
      "text/plain": [
       "KNeighborsClassifier(algorithm='auto', leaf_size=30, metric='minkowski',\n",
       "                     metric_params=None, n_jobs=None, n_neighbors=10, p=1,\n",
       "                     weights='uniform')"
      ]
     },
     "execution_count": 24,
     "metadata": {},
     "output_type": "execute_result"
    }
   ],
   "source": [
    "clf.best_estimator_"
   ]
  },
  {
   "cell_type": "code",
   "execution_count": 25,
   "metadata": {},
   "outputs": [
    {
     "name": "stdout",
     "output_type": "stream",
     "text": [
      "Validation score: 0.967848856479947\n",
      "Test score 0.9676884838442419\n"
     ]
    }
   ],
   "source": [
    "clf = KNeighborsClassifier(n_neighbors=10, p=1)\n",
    "run(clf)"
   ]
  },
  {
   "cell_type": "code",
   "execution_count": 26,
   "metadata": {},
   "outputs": [
    {
     "name": "stdout",
     "output_type": "stream",
     "text": [
      "Fitting 5 folds for each of 3 candidates, totalling 15 fits\n"
     ]
    },
    {
     "name": "stderr",
     "output_type": "stream",
     "text": [
      "[Parallel(n_jobs=7)]: Using backend LokyBackend with 7 concurrent workers.\n",
      "[Parallel(n_jobs=7)]: Done   4 out of  15 | elapsed:   29.7s remaining:  1.4min\n",
      "[Parallel(n_jobs=7)]: Done   6 out of  15 | elapsed:   31.1s remaining:   46.7s\n",
      "[Parallel(n_jobs=7)]: Done   8 out of  15 | elapsed:   40.4s remaining:   35.3s\n",
      "[Parallel(n_jobs=7)]: Done  10 out of  15 | elapsed:   44.4s remaining:   22.2s\n",
      "[Parallel(n_jobs=7)]: Done  12 out of  15 | elapsed:   49.4s remaining:   12.3s\n",
      "[Parallel(n_jobs=7)]: Done  15 out of  15 | elapsed:  1.5min finished\n"
     ]
    },
    {
     "name": "stdout",
     "output_type": "stream",
     "text": [
      "Validation score: 0.9635399403380842\n",
      "Test score 0.9821043910521955\n"
     ]
    }
   ],
   "source": [
    "parameters = {\n",
    "    'loss': ['deviance'],\n",
    "    'learning_rate': [0.01, 0.1, 1]\n",
    "}\n",
    "\n",
    "clf = GridSearchCV(GradientBoostingClassifier(), parameters, n_jobs=7, verbose=10, cv=5)\n",
    "run(clf)"
   ]
  },
  {
   "cell_type": "code",
   "execution_count": 27,
   "metadata": {},
   "outputs": [
    {
     "data": {
      "text/plain": [
       "GradientBoostingClassifier(criterion='friedman_mse', init=None,\n",
       "                           learning_rate=0.1, loss='deviance', max_depth=3,\n",
       "                           max_features=None, max_leaf_nodes=None,\n",
       "                           min_impurity_decrease=0.0, min_impurity_split=None,\n",
       "                           min_samples_leaf=1, min_samples_split=2,\n",
       "                           min_weight_fraction_leaf=0.0, n_estimators=100,\n",
       "                           n_iter_no_change=None, presort='auto',\n",
       "                           random_state=None, subsample=1.0, tol=0.0001,\n",
       "                           validation_fraction=0.1, verbose=0,\n",
       "                           warm_start=False)"
      ]
     },
     "execution_count": 27,
     "metadata": {},
     "output_type": "execute_result"
    }
   ],
   "source": [
    "clf.best_estimator_"
   ]
  },
  {
   "cell_type": "code",
   "execution_count": 28,
   "metadata": {},
   "outputs": [
    {
     "name": "stdout",
     "output_type": "stream",
     "text": [
      "Validation score: 0.963705667882002\n",
      "Test score 0.9821043910521955\n"
     ]
    }
   ],
   "source": [
    "clf = GradientBoostingClassifier()\n",
    "run(clf)"
   ]
  },
  {
   "cell_type": "code",
   "execution_count": 29,
   "metadata": {},
   "outputs": [
    {
     "name": "stdout",
     "output_type": "stream",
     "text": [
      "Fitting 5 folds for each of 4 candidates, totalling 20 fits\n"
     ]
    },
    {
     "name": "stderr",
     "output_type": "stream",
     "text": [
      "[Parallel(n_jobs=7)]: Using backend LokyBackend with 7 concurrent workers.\n",
      "[Parallel(n_jobs=7)]: Done   4 tasks      | elapsed:    0.8s\n",
      "[Parallel(n_jobs=7)]: Done  10 out of  20 | elapsed:    1.2s remaining:    1.2s\n",
      "[Parallel(n_jobs=7)]: Done  13 out of  20 | elapsed:    1.8s remaining:    1.0s\n",
      "[Parallel(n_jobs=7)]: Done  16 out of  20 | elapsed:    2.7s remaining:    0.7s\n",
      "[Parallel(n_jobs=7)]: Done  20 out of  20 | elapsed:    3.4s finished\n"
     ]
    },
    {
     "name": "stdout",
     "output_type": "stream",
     "text": [
      "Validation score: 0.9405038117335102\n",
      "Test score 0.9514498757249379\n"
     ]
    }
   ],
   "source": [
    "parameters = {\n",
    "    'n_estimators': [5, 10, 20, 50]\n",
    "}\n",
    "\n",
    "clf = GridSearchCV(BaggingClassifier(), parameters, n_jobs=7, verbose=10, cv=5)\n",
    "run(clf)"
   ]
  },
  {
   "cell_type": "code",
   "execution_count": 30,
   "metadata": {},
   "outputs": [
    {
     "data": {
      "text/plain": [
       "BaggingClassifier(base_estimator=None, bootstrap=True, bootstrap_features=False,\n",
       "                  max_features=1.0, max_samples=1.0, n_estimators=20,\n",
       "                  n_jobs=None, oob_score=False, random_state=None, verbose=0,\n",
       "                  warm_start=False)"
      ]
     },
     "execution_count": 30,
     "metadata": {},
     "output_type": "execute_result"
    }
   ],
   "source": [
    "clf.best_estimator_"
   ]
  },
  {
   "cell_type": "code",
   "execution_count": 31,
   "metadata": {},
   "outputs": [
    {
     "name": "stdout",
     "output_type": "stream",
     "text": [
      "Validation score: 0.9310573417301956\n",
      "Test score 0.9415078707539354\n"
     ]
    }
   ],
   "source": [
    "clf = BaggingClassifier()\n",
    "run(clf)"
   ]
  },
  {
   "cell_type": "code",
   "execution_count": 32,
   "metadata": {},
   "outputs": [
    {
     "name": "stdout",
     "output_type": "stream",
     "text": [
      "Fitting 5 folds for each of 3 candidates, totalling 15 fits\n"
     ]
    },
    {
     "name": "stderr",
     "output_type": "stream",
     "text": [
      "[Parallel(n_jobs=7)]: Using backend LokyBackend with 7 concurrent workers.\n",
      "[Parallel(n_jobs=7)]: Done   4 out of  15 | elapsed:    4.6s remaining:   12.6s\n",
      "[Parallel(n_jobs=7)]: Done   6 out of  15 | elapsed:    8.1s remaining:   12.2s\n",
      "[Parallel(n_jobs=7)]: Done   8 out of  15 | elapsed:    9.1s remaining:    7.9s\n",
      "[Parallel(n_jobs=7)]: Done  10 out of  15 | elapsed:   12.3s remaining:    6.2s\n",
      "[Parallel(n_jobs=7)]: Done  12 out of  15 | elapsed:   15.6s remaining:    3.9s\n",
      "[Parallel(n_jobs=7)]: Done  15 out of  15 | elapsed:   19.0s finished\n"
     ]
    },
    {
     "name": "stdout",
     "output_type": "stream",
     "text": [
      "Validation score: 0.9847530659595625\n",
      "Test score 0.9830985915492958\n"
     ]
    }
   ],
   "source": [
    "parameters = {\n",
    "    'n_estimators': [500, 1000, 1500]\n",
    "}\n",
    "\n",
    "clf = GridSearchCV(ExtraTreesClassifier(), parameters, n_jobs=7, verbose=10, cv=5)\n",
    "run(clf)"
   ]
  },
  {
   "cell_type": "code",
   "execution_count": 33,
   "metadata": {},
   "outputs": [
    {
     "data": {
      "text/plain": [
       "ExtraTreesClassifier(bootstrap=False, class_weight=None, criterion='gini',\n",
       "                     max_depth=None, max_features='auto', max_leaf_nodes=None,\n",
       "                     min_impurity_decrease=0.0, min_impurity_split=None,\n",
       "                     min_samples_leaf=1, min_samples_split=2,\n",
       "                     min_weight_fraction_leaf=0.0, n_estimators=1000,\n",
       "                     n_jobs=None, oob_score=False, random_state=None, verbose=0,\n",
       "                     warm_start=False)"
      ]
     },
     "execution_count": 33,
     "metadata": {},
     "output_type": "execute_result"
    }
   ],
   "source": [
    "clf.best_estimator_"
   ]
  },
  {
   "cell_type": "code",
   "execution_count": 34,
   "metadata": {},
   "outputs": [
    {
     "name": "stdout",
     "output_type": "stream",
     "text": [
      "Validation score: 0.9821014252568777\n",
      "Test score 0.9824357912178956\n"
     ]
    }
   ],
   "source": [
    "clf = ExtraTreesClassifier(n_estimators=50)\n",
    "run(clf)"
   ]
  },
  {
   "cell_type": "code",
   "execution_count": 35,
   "metadata": {},
   "outputs": [
    {
     "name": "stdout",
     "output_type": "stream",
     "text": [
      "Fitting 5 folds for each of 4 candidates, totalling 20 fits\n"
     ]
    },
    {
     "name": "stderr",
     "output_type": "stream",
     "text": [
      "[Parallel(n_jobs=7)]: Using backend LokyBackend with 7 concurrent workers.\n",
      "[Parallel(n_jobs=7)]: Done   4 tasks      | elapsed:    1.9s\n",
      "[Parallel(n_jobs=7)]: Done  10 out of  20 | elapsed:    3.4s remaining:    3.4s\n",
      "[Parallel(n_jobs=7)]: Done  13 out of  20 | elapsed:    4.8s remaining:    2.6s\n",
      "[Parallel(n_jobs=7)]: Done  16 out of  20 | elapsed:    5.5s remaining:    1.4s\n",
      "[Parallel(n_jobs=7)]: Done  20 out of  20 | elapsed:    7.0s finished\n"
     ]
    },
    {
     "name": "stdout",
     "output_type": "stream",
     "text": [
      "Validation score: 0.9751408684123302\n",
      "Test score 0.9827671913835957\n"
     ]
    }
   ],
   "source": [
    "parameters = {\n",
    "    'n_estimators': [100, 150, 200, 250]\n",
    "}\n",
    "\n",
    "clf = GridSearchCV(RandomForestClassifier(), parameters, n_jobs=7, verbose=10, cv=5)\n",
    "run(clf)"
   ]
  },
  {
   "cell_type": "code",
   "execution_count": 36,
   "metadata": {},
   "outputs": [
    {
     "data": {
      "text/plain": [
       "RandomForestClassifier(bootstrap=True, class_weight=None, criterion='gini',\n",
       "                       max_depth=None, max_features='auto', max_leaf_nodes=None,\n",
       "                       min_impurity_decrease=0.0, min_impurity_split=None,\n",
       "                       min_samples_leaf=1, min_samples_split=2,\n",
       "                       min_weight_fraction_leaf=0.0, n_estimators=150,\n",
       "                       n_jobs=None, oob_score=False, random_state=None,\n",
       "                       verbose=0, warm_start=False)"
      ]
     },
     "execution_count": 36,
     "metadata": {},
     "output_type": "execute_result"
    }
   ],
   "source": [
    "clf.best_estimator_"
   ]
  },
  {
   "cell_type": "code",
   "execution_count": 37,
   "metadata": {},
   "outputs": [
    {
     "name": "stdout",
     "output_type": "stream",
     "text": [
      "Validation score: 0.9764666887636725\n",
      "Test score 0.9822700911350456\n"
     ]
    }
   ],
   "source": [
    "clf = RandomForestClassifier(n_estimators=150)\n",
    "run(clf)"
   ]
  },
  {
   "cell_type": "code",
   "execution_count": 38,
   "metadata": {},
   "outputs": [
    {
     "name": "stdout",
     "output_type": "stream",
     "text": [
      "Fitting 5 folds for each of 12 candidates, totalling 60 fits\n"
     ]
    },
    {
     "name": "stderr",
     "output_type": "stream",
     "text": [
      "[Parallel(n_jobs=7)]: Using backend LokyBackend with 7 concurrent workers.\n",
      "[Parallel(n_jobs=7)]: Done   4 tasks      | elapsed:    1.7s\n",
      "[Parallel(n_jobs=7)]: Done  11 tasks      | elapsed:   13.6s\n",
      "[Parallel(n_jobs=7)]: Done  18 tasks      | elapsed:   15.2s\n",
      "[Parallel(n_jobs=7)]: Done  27 tasks      | elapsed:   21.3s\n",
      "[Parallel(n_jobs=7)]: Done  36 tasks      | elapsed:   24.4s\n",
      "[Parallel(n_jobs=7)]: Done  47 tasks      | elapsed:   26.7s\n",
      "[Parallel(n_jobs=7)]: Done  54 out of  60 | elapsed:   27.7s remaining:    3.1s\n",
      "[Parallel(n_jobs=7)]: Done  60 out of  60 | elapsed:   28.6s finished\n",
      "/home/mimos/anaconda3/envs/loc/lib/python3.7/site-packages/sklearn/svm/base.py:193: FutureWarning: The default value of gamma will change from 'auto' to 'scale' in version 0.22 to account better for unscaled features. Set gamma explicitly to 'auto' or 'scale' to avoid this warning.\n",
      "  \"avoid this warning.\", FutureWarning)\n"
     ]
    },
    {
     "name": "stdout",
     "output_type": "stream",
     "text": [
      "Validation score: 0.9353662578720583\n",
      "Test score 0.9411764705882353\n"
     ]
    }
   ],
   "source": [
    "parameters = {\n",
    "    'kernel': ['linear', 'poly', 'rbf', 'sigmoid'],\n",
    "    'C': [1, 10, 50]\n",
    "}\n",
    "\n",
    "clf = GridSearchCV(SVC(), parameters, n_jobs=7, verbose=10, cv=5)\n",
    "run(clf)"
   ]
  },
  {
   "cell_type": "code",
   "execution_count": 39,
   "metadata": {},
   "outputs": [
    {
     "data": {
      "text/plain": [
       "SVC(C=10, cache_size=200, class_weight=None, coef0=0.0,\n",
       "    decision_function_shape='ovr', degree=3, gamma='auto_deprecated',\n",
       "    kernel='rbf', max_iter=-1, probability=False, random_state=None,\n",
       "    shrinking=True, tol=0.001, verbose=False)"
      ]
     },
     "execution_count": 39,
     "metadata": {},
     "output_type": "execute_result"
    }
   ],
   "source": [
    "clf.best_estimator_"
   ]
  },
  {
   "cell_type": "code",
   "execution_count": 40,
   "metadata": {},
   "outputs": [
    {
     "name": "stderr",
     "output_type": "stream",
     "text": [
      "/home/mimos/anaconda3/envs/loc/lib/python3.7/site-packages/sklearn/svm/base.py:193: FutureWarning: The default value of gamma will change from 'auto' to 'scale' in version 0.22 to account better for unscaled features. Set gamma explicitly to 'auto' or 'scale' to avoid this warning.\n",
      "  \"avoid this warning.\", FutureWarning)\n"
     ]
    },
    {
     "name": "stdout",
     "output_type": "stream",
     "text": [
      "Validation score: 0.9353662578720583\n",
      "Test score 0.9411764705882353\n"
     ]
    }
   ],
   "source": [
    "clf = SVC(C=10)\n",
    "run(clf)"
   ]
  },
  {
   "cell_type": "code",
   "execution_count": null,
   "metadata": {},
   "outputs": [],
   "source": []
  }
 ],
 "metadata": {
  "kernelspec": {
   "display_name": "Python 3",
   "language": "python",
   "name": "python3"
  },
  "language_info": {
   "codemirror_mode": {
    "name": "ipython",
    "version": 3
   },
   "file_extension": ".py",
   "mimetype": "text/x-python",
   "name": "python",
   "nbconvert_exporter": "python",
   "pygments_lexer": "ipython3",
   "version": "3.7.5"
  }
 },
 "nbformat": 4,
 "nbformat_minor": 2
}
