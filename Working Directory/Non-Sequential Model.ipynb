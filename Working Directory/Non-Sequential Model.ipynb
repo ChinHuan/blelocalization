{
 "cells": [
  {
   "cell_type": "code",
   "execution_count": 1,
   "metadata": {},
   "outputs": [],
   "source": [
    "import tensorflow as tf"
   ]
  },
  {
   "cell_type": "code",
   "execution_count": 22,
   "metadata": {},
   "outputs": [],
   "source": [
    "class XYRegressor(tf.keras.Model):\n",
    "    def __init__(self):\n",
    "        super(XYRegressor, self).__init__()\n",
    "        self.dx1 = tf.keras.layers.Dense(64, activation='relu', input_shape=(17,))\n",
    "        self.dx2 = tf.keras.layers.Dense(64, activation='relu', \n",
    "                                         kernel_regularizer=tf.keras.regularizers.l2(0.001), \n",
    "                                         bias_regularizer=tf.keras.regularizers.l2(0.001), \n",
    "                                         activity_regularizer=tf.keras.regularizers.l2(0.001))\n",
    "        self.dx3 = tf.keras.layers.Dense(1, kernel_regularizer=tf.keras.regularizers.l2(0.001), \n",
    "                                         bias_regularizer=tf.keras.regularizers.l2(0.001), \n",
    "                                         activity_regularizer=tf.keras.regularizers.l2(0.001))\n",
    "        \n",
    "        self.dy1 = tf.keras.layers.Dense(64, activation='relu', input_shape=(17,))\n",
    "        self.dy2 = tf.keras.layers.Dense(64, activation='relu', \n",
    "                                         kernel_regularizer=tf.keras.regularizers.l2(0.001), \n",
    "                                         bias_regularizer=tf.keras.regularizers.l2(0.001), \n",
    "                                         activity_regularizer=tf.keras.regularizers.l2(0.001))\n",
    "        self.dy3 = tf.keras.layers.Dense(1, kernel_regularizer=tf.keras.regularizers.l2(0.001), \n",
    "                                         bias_regularizer=tf.keras.regularizers.l2(0.001), \n",
    "                                         activity_regularizer=tf.keras.regularizers.l2(0.001))\n",
    "        \n",
    "        self.concat = tf.keras.layers.Concatenate(axis=1)\n",
    "\n",
    "    def call(self, i):\n",
    "        x = self.dx1(i)\n",
    "        x = self.dx2(x)\n",
    "        x = self.dx3(x)\n",
    "        \n",
    "        y = self.dy1(i)\n",
    "        y = self.dy2(y)\n",
    "        y = self.dy3(y)\n",
    "        return self.concat([x, y])"
   ]
  },
  {
   "cell_type": "code",
   "execution_count": 23,
   "metadata": {},
   "outputs": [],
   "source": [
    "model = XYRegressor()"
   ]
  },
  {
   "cell_type": "code",
   "execution_count": 27,
   "metadata": {},
   "outputs": [
    {
     "data": {
      "text/plain": [
       "array([[-0.00039735, -0.12164429],\n",
       "       [-0.00039735, -0.12164429],\n",
       "       [-0.00039735, -0.12164429]], dtype=float32)"
      ]
     },
     "execution_count": 27,
     "metadata": {},
     "output_type": "execute_result"
    }
   ],
   "source": [
    "model.predict(tf.ones(3, 17))"
   ]
  },
  {
   "cell_type": "code",
   "execution_count": null,
   "metadata": {},
   "outputs": [],
   "source": []
  }
 ],
 "metadata": {
  "kernelspec": {
   "display_name": "Python 3",
   "language": "python",
   "name": "python3"
  },
  "language_info": {
   "codemirror_mode": {
    "name": "ipython",
    "version": 3
   },
   "file_extension": ".py",
   "mimetype": "text/x-python",
   "name": "python",
   "nbconvert_exporter": "python",
   "pygments_lexer": "ipython3",
   "version": "3.7.5"
  }
 },
 "nbformat": 4,
 "nbformat_minor": 2
}
